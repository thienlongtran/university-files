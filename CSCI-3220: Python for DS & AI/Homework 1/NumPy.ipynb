{
 "cells": [
  {
   "cell_type": "markdown",
   "metadata": {},
   "source": [
    "# Problem 1"
   ]
  },
  {
   "cell_type": "markdown",
   "metadata": {},
   "source": [
    "**A.** Create a one-dimensional NumPy array using np.arange method.\n",
    "\n",
    "*Sample Output:*\n",
    "\n",
    "    array([1, 2, 3, 4, 5, 6, 7, 8, 9, 10, 11, 12, 13, 14, 15, 16])\n"
   ]
  },
  {
   "cell_type": "code",
   "execution_count": 431,
   "metadata": {},
   "outputs": [
    {
     "data": {
      "text/plain": [
       "array([ 0,  1,  2,  3,  4,  5,  6,  7,  8,  9, 10, 11, 12, 13, 14, 15])"
      ]
     },
     "execution_count": 431,
     "metadata": {},
     "output_type": "execute_result"
    }
   ],
   "source": [
    "import numpy as np\n",
    "\n",
    "#Usage of Lambda Function - sticking info into long term memory!\n",
    "createNDarray = lambda n: np.arange(n)\n",
    "\n",
    "arr = createNDarray(16)\n",
    "arr"
   ]
  },
  {
   "cell_type": "markdown",
   "metadata": {},
   "source": [
    "**B.** Reshape the array to make it two-dimensional array of 4X4 size:\n",
    "\n",
    "*Sample Output:*\n",
    "\n",
    "    array([ [ 1, 2, 3, 4],\n",
    "\n",
    "          [ 5, 6, 7, 8],\n",
    "\n",
    "          [ 9, 10, 11,12],\n",
    "\n",
    "          [13, 14, 15,16]])"
   ]
  },
  {
   "cell_type": "code",
   "execution_count": 432,
   "metadata": {},
   "outputs": [
    {
     "data": {
      "text/plain": [
       "array([[ 0,  1,  2,  3],\n",
       "       [ 4,  5,  6,  7],\n",
       "       [ 8,  9, 10, 11],\n",
       "       [12, 13, 14, 15]])"
      ]
     },
     "execution_count": 432,
     "metadata": {},
     "output_type": "execute_result"
    }
   ],
   "source": [
    "reshapedArray = arr.reshape(4,4)\n",
    "reshapedArray"
   ]
  },
  {
   "cell_type": "markdown",
   "metadata": {},
   "source": [
    "**C.** Split the array into four equal-sized(2X2) sub-arrays.\n",
    "\n",
    "*Sample Output:*\n",
    "\n",
    "    array([ [ 1, 2],\n",
    "            [ 5, 6]])\n",
    "\n",
    "    array([ [ 3, 4],\n",
    "            [ 7, 8]])\n",
    "\n",
    "    array([ [ 9, 10],\n",
    "            [13, 14]])\n",
    "\n",
    "    array([ [11, 12],\n",
    "            [15, 16]])"
   ]
  },
  {
   "cell_type": "code",
   "execution_count": 433,
   "metadata": {},
   "outputs": [
    {
     "data": {
      "text/plain": [
       "(array([[0, 1],\n",
       "        [4, 5]]),\n",
       " array([[2, 3],\n",
       "        [6, 7]]),\n",
       " array([[ 8,  9],\n",
       "        [12, 13]]),\n",
       " array([[10, 11],\n",
       "        [14, 15]]))"
      ]
     },
     "execution_count": 433,
     "metadata": {},
     "output_type": "execute_result"
    }
   ],
   "source": [
    "splitedArray = reshapedArray[0:2, 0:2], reshapedArray[0:2, 2:4], reshapedArray[2:4, 0:2], reshapedArray[2:4, 2:4]\n",
    "splitedArray"
   ]
  },
  {
   "cell_type": "markdown",
   "metadata": {},
   "source": [
    "# Problem 2\n",
    "Generate a random password that meets the following conditions:"
   ]
  },
  {
   "cell_type": "markdown",
   "metadata": {},
   "source": [
    "**A.** Password length must be 4 characters long.\n"
   ]
  },
  {
   "cell_type": "code",
   "execution_count": 434,
   "metadata": {},
   "outputs": [
    {
     "data": {
      "text/plain": [
       "'70I5'"
      ]
     },
     "execution_count": 434,
     "metadata": {},
     "output_type": "execute_result"
    }
   ],
   "source": [
    "import random\n",
    "import string\n",
    "\n",
    "#Generate a random password of length 4\n",
    "def generatePassword():\n",
    "    passwordLength = 4\n",
    "    password = \"\"\n",
    "    \n",
    "    #Generate each character of the password\n",
    "    for i in range(passwordLength):\n",
    "        isNum = random.getrandbits(1)\n",
    "        \n",
    "        #Append a number to password if isNum bit is 1\n",
    "        if(isNum):\n",
    "            password = password + (str)(random.choice(range(10)))\n",
    "        \n",
    "        #Append an alphabet character to password if IsNum bit is 0\n",
    "        else:\n",
    "            #Citation: found help on generating a random ASCII letter from \"Mark Rushakoff on Stack Overflow\"\n",
    "            #Link: https://stackoverflow.com/questions/2823316/generate-a-random-letter-in-python\n",
    "            password = password + random.choice(string.ascii_letters)\n",
    "        \n",
    "    return password \n",
    "\n",
    "generatePassword()"
   ]
  },
  {
   "cell_type": "markdown",
   "metadata": {},
   "source": [
    "**B.** It must contain at least 1 upper case letter, 1 digit.\n",
    "\n",
    "*Sample Output:*\n",
    "\n",
    "    Password: 4Bvr"
   ]
  },
  {
   "cell_type": "code",
   "execution_count": 435,
   "metadata": {},
   "outputs": [
    {
     "data": {
      "text/plain": [
       "'E0T3'"
      ]
     },
     "execution_count": 435,
     "metadata": {},
     "output_type": "execute_result"
    }
   ],
   "source": [
    "def generatePasswordWithConditions():\n",
    "    \"\"\"\n",
    "    Generate a password with the generatePassword function and ensures that the result contains at least:\n",
    "        - 1 upper case letter.\n",
    "        - 1 digit.\n",
    "    before returning the password. Otherwise, generate another password and repeat steps until conditions met.\n",
    "    \"\"\"\n",
    "    while True:\n",
    "        password = generatePassword()\n",
    "        hasUpper = False\n",
    "        hasDigit = False\n",
    "        \n",
    "        #Conditions Checking\n",
    "        for i in range(len(password)):\n",
    "            #Check if char is uppercase\n",
    "            #Citation: found how to check if character is uppercase from w3schools\n",
    "            #Link: https://www.w3schools.com/python/ref_string_isupper.asp\n",
    "            if(password[i].isupper()):\n",
    "                hasUpper = True\n",
    "                \n",
    "            #Check if char is a digit\n",
    "            #Citation: found how to check if character is numeric from w3schools\n",
    "            #Link: https://www.w3schools.com/python/ref_string_isnumeric.asp\n",
    "            if(password[i].isnumeric()):\n",
    "                hasDigit = True\n",
    "        \n",
    "        if(hasDigit & hasUpper):\n",
    "            return password\n",
    "        \n",
    "        else:\n",
    "            generatePasswordWithConditions()\n",
    "    \n",
    "generatePasswordWithConditions()"
   ]
  },
  {
   "cell_type": "markdown",
   "metadata": {},
   "source": [
    "# Problem 3"
   ]
  },
  {
   "cell_type": "markdown",
   "metadata": {},
   "source": [
    "**A.** Generate a random 2-D integer array of size N X M where N and M are the numbers of rows and columns. Print the mean from axis 0 and sum from axis 1.\n",
    "\n",
    "*Sample Output:*\n",
    "\n",
    "    array([ [ 3, 8],\n",
    "            [ 7, 5]\n",
    "         ])\n",
    "    Mean (axis 0) = 5.0, 6.5\n",
    "    Sum (axis 1) = 11, 12\n"
   ]
  },
  {
   "cell_type": "code",
   "execution_count": 436,
   "metadata": {},
   "outputs": [
    {
     "data": {
      "text/plain": [
       "array([[66, 29],\n",
       "       [16, 96]])"
      ]
     },
     "execution_count": 436,
     "metadata": {},
     "output_type": "execute_result"
    }
   ],
   "source": [
    "#Output array\n",
    "\n",
    "#Generate an ndArray of size N x M with random integers from 0 to 100\n",
    "genRandomNDArray = lambda n,m: np.random.randint(0, 100, (n, m))\n",
    "\n",
    "array = genRandomNDArray(2, 2)\n",
    "array\n"
   ]
  },
  {
   "cell_type": "code",
   "execution_count": 437,
   "metadata": {},
   "outputs": [
    {
     "name": "stdout",
     "output_type": "stream",
     "text": [
      "Mean (axis 0) = 41.0, 62.5\n",
      "Sum (axis 1) = 95, 112\n"
     ]
    }
   ],
   "source": [
    "#Output mean and sum of respective axises\n",
    "\n",
    "#Convert ndArray to printable string format and return string\n",
    "def ndArrayToString(array):\n",
    "    result = \"\"\n",
    "    \n",
    "    for items in array:\n",
    "        #Initialize result string with first element if string is empty\n",
    "        if len(result) == 0:\n",
    "            result = result + (str)(items)\n",
    "            \n",
    "        else:\n",
    "            result = result + \", \" + (str)(items)\n",
    "        \n",
    "    \n",
    "    return result\n",
    "    \n",
    "#Output mean of axis 0\n",
    "print(\"Mean (axis 0) = \" + ndArrayToString(array.mean(0)))\n",
    "\n",
    "#Output \n",
    "print(\"Sum (axis 1) = \" + ndArrayToString(array.sum(1)))"
   ]
  },
  {
   "cell_type": "markdown",
   "metadata": {},
   "source": [
    "# Problem 4"
   ]
  },
  {
   "cell_type": "markdown",
   "metadata": {},
   "source": [
    "Read the data from the files (wordFeature.txt, wordInput.txt) and create two NumPy arrays from the data. Print the words where the average of features is greater than 500 (Using np.where method). Also, write the output into a file (wordoutput.txt)."
   ]
  },
  {
   "cell_type": "code",
   "execution_count": 438,
   "metadata": {},
   "outputs": [
    {
     "name": "stdout",
     "output_type": "stream",
     "text": [
      "['Word', 'AI', 'CMU', 'Data', 'ML', 'CNN', 'Classifier']\n",
      "Count, Importance\n",
      "300.0, 253.25\n",
      "200.0, 232.56\n",
      "342.0, 345.66\n",
      "232.0, 211.99\n",
      "234.0, 789.88\n",
      "212.0, 345.88\n"
     ]
    }
   ],
   "source": [
    "inputList = open(\"wordInput.txt\").read().split(\"\\n\")\n",
    "featureList = open(\"wordFeature.txt\").read()\n",
    "\n",
    "print(inputList)\n",
    "print(featureList)"
   ]
  },
  {
   "cell_type": "code",
   "execution_count": 439,
   "metadata": {},
   "outputs": [
    {
     "data": {
      "text/plain": [
       "array([276.625  , 216.28   , 343.83002, 221.995  , 511.94   , 278.94   ],\n",
       "      dtype=float32)"
      ]
     },
     "execution_count": 439,
     "metadata": {},
     "output_type": "execute_result"
    }
   ],
   "source": [
    "import re\n",
    "\n",
    "inputArray = np.array(inputList)[1:]\n",
    "\n",
    "#Citation: found how to split with two different options using regular expression from Stack Overflow\n",
    "#Link: https://stackoverflow.com/questions/4998629/split-string-with-multiple-delimiters-in-python\n",
    "featureArray = np.array(re.split(\", |\\n\", featureList)).reshape(7,2)[1:].astype(np.float32)\n",
    "averageFeatureArray = (featureArray[:, 0] + featureArray[:, 1]) / 2\n",
    "\n",
    "averageFeatureArray"
   ]
  },
  {
   "cell_type": "code",
   "execution_count": 440,
   "metadata": {},
   "outputs": [
    {
     "data": {
      "text/plain": [
       "array(['AI', 'CMU', 'Data', 'ML', 'CNN', 'Classifier'], dtype='<U10')"
      ]
     },
     "execution_count": 440,
     "metadata": {},
     "output_type": "execute_result"
    }
   ],
   "source": [
    "inputArray"
   ]
  },
  {
   "cell_type": "code",
   "execution_count": 441,
   "metadata": {},
   "outputs": [
    {
     "data": {
      "text/plain": [
       "array([None, None, None, None, 'CNN', None], dtype=object)"
      ]
     },
     "execution_count": 441,
     "metadata": {},
     "output_type": "execute_result"
    }
   ],
   "source": [
    "#Grab words where its features' average is above 500 and store it in resultArray\n",
    "resultArray = np.where(averageFeatureArray > 500, inputArray, None)\n",
    "resultArray"
   ]
  },
  {
   "cell_type": "code",
   "execution_count": 442,
   "metadata": {},
   "outputs": [
    {
     "name": "stdout",
     "output_type": "stream",
     "text": [
      "CNN\n"
     ]
    },
    {
     "data": {
      "text/plain": [
       "60"
      ]
     },
     "execution_count": 442,
     "metadata": {},
     "output_type": "execute_result"
    }
   ],
   "source": [
    "resultString = \"Words where the average of features is greater than 500:\"\n",
    "\n",
    "#Check if items in array is null; disregard if word is None and add to file if word is valid\n",
    "for words in resultArray:\n",
    "    if words != None:\n",
    "        print(words)\n",
    "        resultString = resultString + \"\\n\" + words\n",
    "\n",
    "output = open(\"wordoutput.txt\", \"w\")\n",
    "output.write(resultString)"
   ]
  }
 ],
 "metadata": {
  "kernelspec": {
   "display_name": "Python 3",
   "language": "python",
   "name": "python3"
  },
  "language_info": {
   "codemirror_mode": {
    "name": "ipython",
    "version": 3
   },
   "file_extension": ".py",
   "mimetype": "text/x-python",
   "name": "python",
   "nbconvert_exporter": "python",
   "pygments_lexer": "ipython3",
   "version": "3.8.5"
  }
 },
 "nbformat": 4,
 "nbformat_minor": 4
}
