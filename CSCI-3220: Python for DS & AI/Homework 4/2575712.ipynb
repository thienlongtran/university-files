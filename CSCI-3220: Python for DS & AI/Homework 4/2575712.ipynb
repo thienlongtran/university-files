{
 "cells": [
  {
   "cell_type": "markdown",
   "metadata": {},
   "source": [
    "# CSCI 3220: Python for Data Science and AI\n",
    "\n",
    "## Assignment 4\n",
    "\n",
    "## Due Date: May 5(Wednesday), 11:59 PM\n",
    "\n",
    "## Total Points: 36\n",
    "\n",
    "## Bonus Points: 4\n",
    "\n",
    "#### ***Write the code in Jupyter notebook (ipynb file) with proper comments. \n",
    "#### ***Add proper citation if you take help from a different source (not from the textbook).\n",
    "#### ***Rename the file with your student ID and submit it in Moodle."
   ]
  },
  {
   "cell_type": "code",
   "execution_count": 259,
   "metadata": {},
   "outputs": [],
   "source": [
    "import numpy as np\n",
    "import pandas as pd"
   ]
  },
  {
   "cell_type": "markdown",
   "metadata": {},
   "source": [
    "# Question 1\n",
    "Design and implement a basic neural network using Keras Library for the MNIST digits classification dataset (Keras Toy Dataset)."
   ]
  },
  {
   "cell_type": "markdown",
   "metadata": {},
   "source": [
    "### A. Split the dataset into train and test sets."
   ]
  },
  {
   "cell_type": "code",
   "execution_count": 263,
   "metadata": {},
   "outputs": [],
   "source": [
    "from tensorflow.keras.datasets import mnist\n",
    "\n",
    "(X_train, y_train), (X_test, y_test) = mnist.load_data()"
   ]
  },
  {
   "cell_type": "markdown",
   "metadata": {},
   "source": [
    "### B. The input layer will take the pixel values (one-dimensional array) as input. The network will have three hidden layers with an arbitrary number of nodes in each layer.\n"
   ]
  },
  {
   "cell_type": "code",
   "execution_count": 264,
   "metadata": {},
   "outputs": [],
   "source": [
    "from tensorflow.keras.utils import to_categorical\n",
    "from keras.models import Sequential\n",
    "from keras.layers import Dense\n",
    "\n",
    "from tensorflow import keras\n",
    "from tensorflow.keras import layers\n",
    "\n",
    "#Convert images to 1D array.\n",
    "inputTrainPixels = X_train.reshape(60000, 784).astype('float32') / 255\n",
    "inputTestPixels = X_test.reshape(10000, 784).astype('float32') / 255\n",
    "outputTrainResults = to_categorical(y_train)\n",
    "outputTestResults = to_categorical(y_test)\n",
    "\n",
    "model = Sequential()\n",
    "model.add(Dense(784, activation='relu'))\n",
    "model.add(Dense(254, activation='relu'))\n",
    "model.add(Dense(254, activation='relu'))\n",
    "model.add(Dense(254, activation='relu'))\n",
    "model.add(Dense(10, activation='softmax'))\n",
    "\n",
    "#Citation: learned how to fix shapes incompatibility ValueError by using 'sparse_categorical_crossentropy' from Stack Overflow\n",
    "#Link: https://stackoverflow.com/questions/62148508/how-can-i-overcome-valueerror-shapes-none-1-and-none-7-are-incompatible\n",
    "model.compile(loss='sparse_categorical_crossentropy', optimizer='adam', metrics=['accuracy'])"
   ]
  },
  {
   "cell_type": "markdown",
   "metadata": {},
   "source": [
    "### C. Print the model summary and plot your designed model architecture. "
   ]
  },
  {
   "cell_type": "code",
   "execution_count": 244,
   "metadata": {},
   "outputs": [
    {
     "name": "stdout",
     "output_type": "stream",
     "text": [
      "Model: \"sequential_155\"\n",
      "_________________________________________________________________\n",
      "Layer (type)                 Output Shape              Param #   \n",
      "=================================================================\n",
      "dense_503 (Dense)            (32, 784)                 615440    \n",
      "_________________________________________________________________\n",
      "dense_504 (Dense)            (32, 254)                 199390    \n",
      "_________________________________________________________________\n",
      "dense_505 (Dense)            (32, 254)                 64770     \n",
      "_________________________________________________________________\n",
      "dense_506 (Dense)            (32, 254)                 64770     \n",
      "_________________________________________________________________\n",
      "dense_507 (Dense)            (32, 10)                  2550      \n",
      "=================================================================\n",
      "Total params: 946,920\n",
      "Trainable params: 946,920\n",
      "Non-trainable params: 0\n",
      "_________________________________________________________________\n",
      "None\n"
     ]
    }
   ],
   "source": [
    "#NOTE: Cell 1D (next cell) must be ran first prior to running this cell.\n",
    "#I kept this cell here for assignment-order purposes.\n",
    "\n",
    "print(model.summary())"
   ]
  },
  {
   "cell_type": "markdown",
   "metadata": {},
   "source": [
    "### D. Use 20% of your training data as a validation set, and the rest of the data should be used to train your model. Plot the loss and accuracy for each epoch in the training and validation set."
   ]
  },
  {
   "cell_type": "code",
   "execution_count": 265,
   "metadata": {},
   "outputs": [
    {
     "name": "stdout",
     "output_type": "stream",
     "text": [
      "Epoch 1/20\n",
      "1500/1500 [==============================] - 7s 4ms/step - loss: 0.3814 - accuracy: 0.8793 - val_loss: 0.1351 - val_accuracy: 0.9621\n",
      "Epoch 2/20\n",
      "1500/1500 [==============================] - 7s 4ms/step - loss: 0.1066 - accuracy: 0.9684 - val_loss: 0.1035 - val_accuracy: 0.9710\n",
      "Epoch 3/20\n",
      "1500/1500 [==============================] - 6s 4ms/step - loss: 0.0702 - accuracy: 0.9787 - val_loss: 0.1233 - val_accuracy: 0.9686\n",
      "Epoch 4/20\n",
      "1500/1500 [==============================] - 6s 4ms/step - loss: 0.0559 - accuracy: 0.9836 - val_loss: 0.1160 - val_accuracy: 0.9692\n",
      "Epoch 5/20\n",
      "1500/1500 [==============================] - 7s 4ms/step - loss: 0.0427 - accuracy: 0.9874 - val_loss: 0.1036 - val_accuracy: 0.9718\n",
      "Epoch 6/20\n",
      "1500/1500 [==============================] - 7s 5ms/step - loss: 0.0388 - accuracy: 0.9895 - val_loss: 0.1068 - val_accuracy: 0.9780\n",
      "Epoch 7/20\n",
      "1500/1500 [==============================] - 6s 4ms/step - loss: 0.0321 - accuracy: 0.9907 - val_loss: 0.0975 - val_accuracy: 0.9758\n",
      "Epoch 8/20\n",
      "1500/1500 [==============================] - 6s 4ms/step - loss: 0.0278 - accuracy: 0.9910 - val_loss: 0.1291 - val_accuracy: 0.9747\n",
      "Epoch 9/20\n",
      "1500/1500 [==============================] - 6s 4ms/step - loss: 0.0335 - accuracy: 0.9909 - val_loss: 0.1250 - val_accuracy: 0.9762\n",
      "Epoch 10/20\n",
      "1500/1500 [==============================] - 7s 4ms/step - loss: 0.0254 - accuracy: 0.9929 - val_loss: 0.1029 - val_accuracy: 0.9796\n",
      "Epoch 11/20\n",
      "1500/1500 [==============================] - 7s 5ms/step - loss: 0.0223 - accuracy: 0.9937 - val_loss: 0.1152 - val_accuracy: 0.9776\n",
      "Epoch 12/20\n",
      "1500/1500 [==============================] - 7s 4ms/step - loss: 0.0214 - accuracy: 0.9936 - val_loss: 0.1367 - val_accuracy: 0.9750\n",
      "Epoch 13/20\n",
      "1500/1500 [==============================] - 7s 5ms/step - loss: 0.0206 - accuracy: 0.9944 - val_loss: 0.1435 - val_accuracy: 0.9747\n",
      "Epoch 14/20\n",
      "1500/1500 [==============================] - 7s 5ms/step - loss: 0.0174 - accuracy: 0.9954 - val_loss: 0.1149 - val_accuracy: 0.9793\n",
      "Epoch 15/20\n",
      "1500/1500 [==============================] - 7s 5ms/step - loss: 0.0169 - accuracy: 0.9953 - val_loss: 0.1362 - val_accuracy: 0.9782\n",
      "Epoch 16/20\n",
      "1500/1500 [==============================] - 7s 5ms/step - loss: 0.0157 - accuracy: 0.9956 - val_loss: 0.1887 - val_accuracy: 0.9718\n",
      "Epoch 17/20\n",
      "1500/1500 [==============================] - 7s 4ms/step - loss: 0.0195 - accuracy: 0.9950 - val_loss: 0.1356 - val_accuracy: 0.9775\n",
      "Epoch 18/20\n",
      "1500/1500 [==============================] - 7s 4ms/step - loss: 0.0132 - accuracy: 0.9965 - val_loss: 0.1738 - val_accuracy: 0.9678\n",
      "Epoch 19/20\n",
      "1500/1500 [==============================] - 7s 4ms/step - loss: 0.0118 - accuracy: 0.9971 - val_loss: 0.1759 - val_accuracy: 0.9696\n",
      "Epoch 20/20\n",
      "1500/1500 [==============================] - 7s 4ms/step - loss: 0.0159 - accuracy: 0.9957 - val_loss: 0.1403 - val_accuracy: 0.9809\n"
     ]
    }
   ],
   "source": [
    "history = model.fit(inputTrainPixels, y_train, epochs=20, validation_split=0.2)"
   ]
  },
  {
   "cell_type": "code",
   "execution_count": 266,
   "metadata": {},
   "outputs": [
    {
     "data": {
      "text/plain": [
       "<matplotlib.legend.Legend at 0x2d505f70640>"
      ]
     },
     "execution_count": 266,
     "metadata": {},
     "output_type": "execute_result"
    },
    {
     "data": {
      "image/png": "[encoded data removed]",
      "text/plain": [
       "<Figure size 720x432 with 2 Axes>"
      ]
     },
     "metadata": {
      "needs_background": "light"
     },
     "output_type": "display_data"
    }
   ],
   "source": [
    "#Citation: Used direct plotting code from the ML_Keras_Demo since it works fine, and is part of the class and/or book.\n",
    "import matplotlib.pyplot as plt\n",
    "\n",
    "history_dict = history.history\n",
    "acc = history_dict['accuracy']\n",
    "val_acc = history_dict['val_accuracy']\n",
    "loss = history_dict['loss']\n",
    "val_loss = history_dict['val_loss']\n",
    "\n",
    "epochs = range(1, len(acc) + 1)\n",
    "fig = plt.figure(figsize=(10, 6))\n",
    "fig.tight_layout()\n",
    "\n",
    "plt.subplot(2, 1, 1)\n",
    "# \"bo\" is for \"blue dot\"\n",
    "plt.plot(epochs, loss, 'r', label='Training Loss')\n",
    "# b is for \"solid blue line\"\n",
    "plt.plot(epochs, val_loss, 'b', label='Validation Loss')\n",
    "plt.title('Training and Validation Loss')\n",
    "# plt.xlabel('Epochs')\n",
    "plt.ylabel('Loss')\n",
    "plt.legend()\n",
    "\n",
    "plt.subplot(2, 1, 2)\n",
    "plt.plot(epochs, acc, 'r', label='Training Acc')\n",
    "plt.plot(epochs, val_acc, 'b', label='Validation Acc')\n",
    "plt.title('Training and Validation Accuracy')\n",
    "plt.xlabel('Epochs')\n",
    "plt.ylabel('Accuracy')\n",
    "plt.legend(loc='lower right')"
   ]
  },
  {
   "cell_type": "markdown",
   "metadata": {},
   "source": [
    "### E. Based on the plot (question 1d), tune the hyperparameters of the network so that it does not overfit. You should use EarlyStopping (avoid overfitting) and ModelCheckpoint to save the best model based on the performance of the validation set."
   ]
  },
  {
   "cell_type": "code",
   "execution_count": 268,
   "metadata": {},
   "outputs": [
    {
     "name": "stdout",
     "output_type": "stream",
     "text": [
      "Epoch 1/15\n",
      "1500/1500 [==============================] - 6s 4ms/step - loss: 0.0153 - accuracy: 0.9966 - val_loss: 0.1535 - val_accuracy: 0.9788\n",
      "\n",
      "Epoch 00001: val_accuracy improved from -inf to 0.97883, saving model to model.h5\n",
      "Epoch 2/15\n",
      "1500/1500 [==============================] - 7s 5ms/step - loss: 0.0153 - accuracy: 0.9961 - val_loss: 0.1607 - val_accuracy: 0.9781\n",
      "\n",
      "Epoch 00002: val_accuracy did not improve from 0.97883\n",
      "Epoch 3/15\n",
      "1500/1500 [==============================] - 7s 4ms/step - loss: 0.0097 - accuracy: 0.9977 - val_loss: 0.2176 - val_accuracy: 0.9779\n",
      "\n",
      "Epoch 00003: val_accuracy did not improve from 0.97883\n",
      "Epoch 00003: early stopping\n"
     ]
    }
   ],
   "source": [
    "from keras.callbacks import EarlyStopping\n",
    "from keras.callbacks import ModelCheckpoint\n",
    "\n",
    "es = EarlyStopping(monitor='val_loss', mode='min', verbose=1,patience=2)\n",
    "mc = ModelCheckpoint('model.h5', monitor='val_accuracy', mode='max', verbose=1, save_best_only=True)\n",
    "\n",
    "history = model.fit(inputTrainPixels, y_train, epochs=20, validation_split=0.2, callbacks=[es,mc])"
   ]
  },
  {
   "cell_type": "markdown",
   "metadata": {},
   "source": [
    "### F. Load the best-saved model and evaluate your model's performance in terms of accuracy for the test set.\n"
   ]
  },
  {
   "cell_type": "code",
   "execution_count": 275,
   "metadata": {},
   "outputs": [
    {
     "name": "stdout",
     "output_type": "stream",
     "text": [
      "313/313 [==============================] - 1s 2ms/step - loss: 0.1340 - accuracy: 0.9793\n"
     ]
    },
    {
     "data": {
      "text/plain": [
       "[0.13397052884101868, 0.9793330430984497]"
      ]
     },
     "execution_count": 275,
     "metadata": {},
     "output_type": "execute_result"
    }
   ],
   "source": [
    "from keras.models import load_model\n",
    "\n",
    "#Citation: learned how to load saved model from TensorFlow documentation\n",
    "#Link: https://www.tensorflow.org/guide/keras/save_and_serialize\n",
    "\n",
    "loadedModel = load_model(\"model.h5\")\n",
    "\n",
    "loadedModel.evaluate(inputTestPixels, y_test)"
   ]
  },
  {
   "cell_type": "markdown",
   "metadata": {},
   "source": [
    "# Question 2\n",
    "Design and implement a convolutional neural network (CNN) using Keras Library for the CIFAR10 small images classification dataset (Keras Toy Dataset)."
   ]
  },
  {
   "cell_type": "markdown",
   "metadata": {},
   "source": [
    "### A. Split the dataset into train and test sets"
   ]
  },
  {
   "cell_type": "code",
   "execution_count": 287,
   "metadata": {},
   "outputs": [
    {
     "data": {
      "text/plain": [
       "(50000, 32, 32, 3)"
      ]
     },
     "execution_count": 287,
     "metadata": {},
     "output_type": "execute_result"
    }
   ],
   "source": [
    "from tensorflow.keras.datasets import cifar10\n",
    "\n",
    "(X_train, y_train), (X_test, y_test) = cifar10.load_data()\n",
    "\n",
    "X_train.shape"
   ]
  },
  {
   "cell_type": "markdown",
   "metadata": {},
   "source": [
    "### B. The network will take the pixel values (color image- three-dimensional array) as input. You can have an arbitrary number of convolution layers, Maxpooling layers and dense layers to design your network. The network architecture, the number of filters, and kernel size should be adjusted to avoid overfitting."
   ]
  },
  {
   "cell_type": "code",
   "execution_count": 333,
   "metadata": {},
   "outputs": [],
   "source": [
    "from tensorflow.keras.models import Sequential\n",
    "from tensorflow.keras.layers import Conv2D, Dense, Flatten, MaxPooling2D\n",
    "\n",
    "inputTrainPixels = X_train.astype('float32') / 255\n",
    "inputTestPixels = X_test.astype('float32') / 255\n",
    "outputTrainResults = to_categorical(y_train)\n",
    "outputTestResults = to_categorical(y_test)\n",
    "\n",
    "cnn = Sequential()\n",
    "cnn.add(Conv2D(filters=64, kernel_size=(3, 3), activation='relu', input_shape=(32, 32, 3)))\n",
    "cnn.add(MaxPooling2D(pool_size=(2, 2)))\n",
    "cnn.add(Conv2D(filters=128, kernel_size=(3, 3), activation='relu'))\n",
    "cnn.add(MaxPooling2D(pool_size=(2, 2)))\n",
    "cnn.add(Flatten())\n",
    "cnn.add(Dense(10, activation='softmax'))\n",
    "    \n",
    "cnn.compile(loss='categorical_crossentropy', optimizer='adam', metrics=['accuracy'])"
   ]
  },
  {
   "cell_type": "markdown",
   "metadata": {},
   "source": [
    "### C. Print the summary and plot the architecture of your network. "
   ]
  },
  {
   "cell_type": "code",
   "execution_count": 335,
   "metadata": {},
   "outputs": [
    {
     "name": "stdout",
     "output_type": "stream",
     "text": [
      "Model: \"sequential_185\"\n",
      "_________________________________________________________________\n",
      "Layer (type)                 Output Shape              Param #   \n",
      "=================================================================\n",
      "conv2d_109 (Conv2D)          (None, 30, 30, 64)        1792      \n",
      "_________________________________________________________________\n",
      "max_pooling2d_70 (MaxPooling (None, 15, 15, 64)        0         \n",
      "_________________________________________________________________\n",
      "conv2d_110 (Conv2D)          (None, 13, 13, 128)       73856     \n",
      "_________________________________________________________________\n",
      "max_pooling2d_71 (MaxPooling (None, 6, 6, 128)         0         \n",
      "_________________________________________________________________\n",
      "flatten_19 (Flatten)         (None, 4608)              0         \n",
      "_________________________________________________________________\n",
      "dense_552 (Dense)            (None, 10)                46090     \n",
      "=================================================================\n",
      "Total params: 121,738\n",
      "Trainable params: 121,738\n",
      "Non-trainable params: 0\n",
      "_________________________________________________________________\n",
      "None\n"
     ]
    }
   ],
   "source": [
    "print(cnn.summary())"
   ]
  },
  {
   "cell_type": "markdown",
   "metadata": {},
   "source": [
    "### D. Use 20% of your training data as a validation set, and the rest of the data should be used to train your model. Plot the loss and accuracy for each epoch in the training and validation set.\n"
   ]
  },
  {
   "cell_type": "code",
   "execution_count": 336,
   "metadata": {},
   "outputs": [
    {
     "name": "stdout",
     "output_type": "stream",
     "text": [
      "Epoch 1/18\n",
      "1250/1250 [==============================] - 32s 25ms/step - loss: 1.6949 - accuracy: 0.3874 - val_loss: 1.2114 - val_accuracy: 0.5789\n",
      "Epoch 2/18\n",
      "1250/1250 [==============================] - 32s 26ms/step - loss: 1.1233 - accuracy: 0.6114 - val_loss: 1.0437 - val_accuracy: 0.6413\n",
      "Epoch 3/18\n",
      "1250/1250 [==============================] - 31s 25ms/step - loss: 0.9668 - accuracy: 0.6672 - val_loss: 0.9985 - val_accuracy: 0.6625\n",
      "Epoch 4/18\n",
      "1250/1250 [==============================] - 31s 25ms/step - loss: 0.8650 - accuracy: 0.7006 - val_loss: 0.9482 - val_accuracy: 0.6744\n",
      "Epoch 5/18\n",
      "1250/1250 [==============================] - 31s 25ms/step - loss: 0.7874 - accuracy: 0.7311 - val_loss: 0.9146 - val_accuracy: 0.6901\n",
      "Epoch 6/18\n",
      "1250/1250 [==============================] - 32s 26ms/step - loss: 0.7323 - accuracy: 0.7495 - val_loss: 0.9233 - val_accuracy: 0.6917\n",
      "Epoch 7/18\n",
      "1250/1250 [==============================] - 31s 25ms/step - loss: 0.6656 - accuracy: 0.7716 - val_loss: 0.9544 - val_accuracy: 0.6838\n",
      "Epoch 8/18\n",
      "1250/1250 [==============================] - 34s 27ms/step - loss: 0.6230 - accuracy: 0.7871 - val_loss: 0.9032 - val_accuracy: 0.7016\n",
      "Epoch 9/18\n",
      "1250/1250 [==============================] - 33s 26ms/step - loss: 0.5739 - accuracy: 0.8038 - val_loss: 0.9543 - val_accuracy: 0.6922\n",
      "Epoch 10/18\n",
      "1250/1250 [==============================] - 35s 28ms/step - loss: 0.5364 - accuracy: 0.8147 - val_loss: 0.9406 - val_accuracy: 0.6977\n",
      "Epoch 11/18\n",
      "1250/1250 [==============================] - 36s 28ms/step - loss: 0.4924 - accuracy: 0.8305 - val_loss: 0.9500 - val_accuracy: 0.7057\n",
      "Epoch 12/18\n",
      "1250/1250 [==============================] - 37s 30ms/step - loss: 0.4621 - accuracy: 0.8422 - val_loss: 0.9642 - val_accuracy: 0.7078\n",
      "Epoch 13/18\n",
      "1250/1250 [==============================] - 35s 28ms/step - loss: 0.4285 - accuracy: 0.8505 - val_loss: 0.9911 - val_accuracy: 0.7086\n",
      "Epoch 14/18\n",
      "1250/1250 [==============================] - 36s 29ms/step - loss: 0.3990 - accuracy: 0.8635 - val_loss: 1.0323 - val_accuracy: 0.7034\n",
      "Epoch 15/18\n",
      "1250/1250 [==============================] - 32s 25ms/step - loss: 0.3789 - accuracy: 0.8697 - val_loss: 1.0617 - val_accuracy: 0.7010\n",
      "Epoch 16/18\n",
      "1250/1250 [==============================] - 31s 25ms/step - loss: 0.3501 - accuracy: 0.8782 - val_loss: 1.0883 - val_accuracy: 0.7020\n",
      "Epoch 17/18\n",
      "1250/1250 [==============================] - 30s 24ms/step - loss: 0.3224 - accuracy: 0.8868 - val_loss: 1.1262 - val_accuracy: 0.7049\n",
      "Epoch 18/18\n",
      "1250/1250 [==============================] - 31s 25ms/step - loss: 0.3058 - accuracy: 0.8928 - val_loss: 1.1703 - val_accuracy: 0.6943\n"
     ]
    }
   ],
   "source": [
    "history = cnn.fit(inputTrainPixels, outputTrainResults, epochs=18, validation_split=0.2)"
   ]
  },
  {
   "cell_type": "code",
   "execution_count": 337,
   "metadata": {},
   "outputs": [
    {
     "data": {
      "text/plain": [
       "<matplotlib.legend.Legend at 0x2d50d8a83a0>"
      ]
     },
     "execution_count": 337,
     "metadata": {},
     "output_type": "execute_result"
    },
    {
     "data": {
      "image/png": "[encoded data removed]",
      "text/plain": [
       "<Figure size 720x432 with 2 Axes>"
      ]
     },
     "metadata": {
      "needs_background": "light"
     },
     "output_type": "display_data"
    }
   ],
   "source": [
    "#Citation: Used direct plotting code from the ML_Keras_Demo since it works fine, and is part of the class and/or book.\n",
    "import matplotlib.pyplot as plt\n",
    "\n",
    "history_dict = history.history\n",
    "acc = history_dict['accuracy']\n",
    "val_acc = history_dict['val_accuracy']\n",
    "loss = history_dict['loss']\n",
    "val_loss = history_dict['val_loss']\n",
    "\n",
    "epochs = range(1, len(acc) + 1)\n",
    "fig = plt.figure(figsize=(10, 6))\n",
    "fig.tight_layout()\n",
    "\n",
    "plt.subplot(2, 1, 1)\n",
    "# \"bo\" is for \"blue dot\"\n",
    "plt.plot(epochs, loss, 'r', label='Training Loss')\n",
    "# b is for \"solid blue line\"\n",
    "plt.plot(epochs, val_loss, 'b', label='Validation Loss')\n",
    "plt.title('Training and Validation Loss')\n",
    "# plt.xlabel('Epochs')\n",
    "plt.ylabel('Loss')\n",
    "plt.legend()\n",
    "\n",
    "plt.subplot(2, 1, 2)\n",
    "plt.plot(epochs, acc, 'r', label='Training Acc')\n",
    "plt.plot(epochs, val_acc, 'b', label='Validation Acc')\n",
    "plt.title('Training and Validation Accuracy')\n",
    "plt.xlabel('Epochs')\n",
    "plt.ylabel('Accuracy')\n",
    "plt.legend(loc='lower right')"
   ]
  },
  {
   "cell_type": "markdown",
   "metadata": {},
   "source": [
    "### E. Based on the plot (question 2d), tune the hyperparameters of the network so that it does not overfit the training data. Use EarlyStopping to stop the training if there is no improvement and ModelCheckpoint to save the best model based on the validation set."
   ]
  },
  {
   "cell_type": "code",
   "execution_count": 339,
   "metadata": {},
   "outputs": [
    {
     "name": "stdout",
     "output_type": "stream",
     "text": [
      "Epoch 1/18\n",
      "1250/1250 [==============================] - 33s 26ms/step - loss: 0.2765 - accuracy: 0.9038 - val_loss: 1.3188 - val_accuracy: 0.6904\n",
      "\n",
      "Epoch 00001: val_accuracy improved from -inf to 0.69040, saving model to cnn.h5\n",
      "Epoch 2/18\n",
      "1250/1250 [==============================] - 31s 25ms/step - loss: 0.2645 - accuracy: 0.9055 - val_loss: 1.3576 - val_accuracy: 0.6920\n",
      "\n",
      "Epoch 00002: val_accuracy improved from 0.69040 to 0.69200, saving model to cnn.h5\n",
      "Epoch 3/18\n",
      "1250/1250 [==============================] - 31s 25ms/step - loss: 0.2434 - accuracy: 0.9130 - val_loss: 1.3884 - val_accuracy: 0.6895\n",
      "\n",
      "Epoch 00003: val_accuracy did not improve from 0.69200\n",
      "Epoch 00003: early stopping\n"
     ]
    }
   ],
   "source": [
    "from keras.callbacks import EarlyStopping\n",
    "from keras.callbacks import ModelCheckpoint\n",
    "\n",
    "#I noticed that it seems like no significant improvements were found after the the 'maximum' validation accuracy model was created.\n",
    "#Therefore, an early stopping of 2 is appropriate to avoid overfitting.\n",
    "\n",
    "es = EarlyStopping(monitor='val_loss', mode='min', verbose=1,patience=2)\n",
    "mc = ModelCheckpoint('cnn.h5', monitor='val_accuracy', mode='max', verbose=1, save_best_only=True)\n",
    "\n",
    "history = cnn.fit(inputTrainPixels, outputTrainResults, epochs=18, validation_split=0.2, callbacks=[es,mc])"
   ]
  },
  {
   "cell_type": "markdown",
   "metadata": {},
   "source": [
    "### F. Load the best-saved model and evaluate your model's performance in terms of accuracy for the test set."
   ]
  },
  {
   "cell_type": "code",
   "execution_count": 340,
   "metadata": {},
   "outputs": [
    {
     "name": "stdout",
     "output_type": "stream",
     "text": [
      "313/313 [==============================] - 2s 6ms/step - loss: 1.3862 - accuracy: 0.6871\n"
     ]
    },
    {
     "data": {
      "text/plain": [
       "[1.3862144947052002, 0.6870999932289124]"
      ]
     },
     "execution_count": 340,
     "metadata": {},
     "output_type": "execute_result"
    }
   ],
   "source": [
    "from keras.models import load_model\n",
    "\n",
    "#Citation: learned how to load saved model from TensorFlow documentation\n",
    "#Link: https://www.tensorflow.org/guide/keras/save_and_serialize\n",
    "\n",
    "loadedCNN = load_model(\"cnn.h5\")\n",
    "\n",
    "loadedCNN.evaluate(inputTestPixels, outputTestResults)"
   ]
  },
  {
   "cell_type": "markdown",
   "metadata": {},
   "source": [
    "# Bonus: 1g. Compare the performance with a convolutional neural network (CNN). You canuse the same network you designed in question 2.\n"
   ]
  },
  {
   "cell_type": "code",
   "execution_count": 403,
   "metadata": {},
   "outputs": [],
   "source": [
    "from tensorflow.keras.datasets import mnist\n",
    "(X_train, y_train), (X_test, y_test) = mnist.load_data()\n",
    "\n",
    "outputTrainResults = to_categorical(y_train)\n",
    "outputTestResults = to_categorical(y_test)\n",
    "\n",
    "#Convolutional Neural Network\n",
    "cnn = Sequential()\n",
    "cnn.add(Conv2D(filters=64, kernel_size=(3, 3), activation='relu', input_shape=(28, 28, 1)))\n",
    "cnn.add(MaxPooling2D(pool_size=(2, 2)))\n",
    "cnn.add(Conv2D(filters=128, kernel_size=(3, 3), activation='relu'))\n",
    "cnn.add(MaxPooling2D(pool_size=(2, 2)))\n",
    "cnn.add(Flatten())\n",
    "cnn.add(Dense(10, activation='softmax'))\n",
    "cnn.compile(loss='sparse_categorical_crossentropy', optimizer='adam', metrics=['accuracy'])\n",
    "\n",
    "#Basic Neural Network\n",
    "model = Sequential()\n",
    "model.add(Dense(784, activation='relu'))\n",
    "model.add(Dense(254, activation='relu'))\n",
    "model.add(Dense(254, activation='relu'))\n",
    "model.add(Dense(254, activation='relu'))\n",
    "model.add(Dense(10, activation='softmax'))\n",
    "model.compile(loss='sparse_categorical_crossentropy', optimizer='adam', metrics=['accuracy'])"
   ]
  },
  {
   "cell_type": "code",
   "execution_count": 404,
   "metadata": {},
   "outputs": [
    {
     "name": "stdout",
     "output_type": "stream",
     "text": [
      "Epoch 1/20\n",
      "1500/1500 [==============================] - 7s 4ms/step - loss: 0.3724 - accuracy: 0.8810 - val_loss: 0.1178 - val_accuracy: 0.9650\n",
      "Epoch 2/20\n",
      "1500/1500 [==============================] - 7s 4ms/step - loss: 0.1129 - accuracy: 0.9673 - val_loss: 0.1046 - val_accuracy: 0.9696\n",
      "Epoch 3/20\n",
      "1500/1500 [==============================] - 7s 4ms/step - loss: 0.0746 - accuracy: 0.9779 - val_loss: 0.1053 - val_accuracy: 0.9729\n",
      "Epoch 4/20\n",
      "1500/1500 [==============================] - 7s 5ms/step - loss: 0.0568 - accuracy: 0.9834 - val_loss: 0.0969 - val_accuracy: 0.9752\n",
      "Epoch 5/20\n",
      "1500/1500 [==============================] - 8s 5ms/step - loss: 0.0466 - accuracy: 0.9857 - val_loss: 0.0938 - val_accuracy: 0.9767\n",
      "Epoch 6/20\n",
      "1500/1500 [==============================] - 7s 5ms/step - loss: 0.0403 - accuracy: 0.9875 - val_loss: 0.1105 - val_accuracy: 0.9728\n",
      "Epoch 7/20\n",
      "1500/1500 [==============================] - 7s 5ms/step - loss: 0.0296 - accuracy: 0.9909 - val_loss: 0.1009 - val_accuracy: 0.9769\n",
      "Epoch 8/20\n",
      "1500/1500 [==============================] - 7s 4ms/step - loss: 0.0269 - accuracy: 0.9921 - val_loss: 0.1137 - val_accuracy: 0.9734\n",
      "Epoch 9/20\n",
      "1500/1500 [==============================] - 7s 5ms/step - loss: 0.0281 - accuracy: 0.9917 - val_loss: 0.1088 - val_accuracy: 0.9760\n",
      "Epoch 10/20\n",
      "1500/1500 [==============================] - 6s 4ms/step - loss: 0.0190 - accuracy: 0.9938 - val_loss: 0.1128 - val_accuracy: 0.9772\n",
      "Epoch 11/20\n",
      "1500/1500 [==============================] - 6s 4ms/step - loss: 0.0217 - accuracy: 0.9938 - val_loss: 0.1078 - val_accuracy: 0.9783\n",
      "Epoch 12/20\n",
      "1500/1500 [==============================] - 6s 4ms/step - loss: 0.0198 - accuracy: 0.9941 - val_loss: 0.1241 - val_accuracy: 0.9766\n",
      "Epoch 13/20\n",
      "1500/1500 [==============================] - 7s 4ms/step - loss: 0.0194 - accuracy: 0.9949 - val_loss: 0.1370 - val_accuracy: 0.9755\n",
      "Epoch 14/20\n",
      "1500/1500 [==============================] - 7s 4ms/step - loss: 0.0259 - accuracy: 0.9936 - val_loss: 0.1078 - val_accuracy: 0.9787\n",
      "Epoch 15/20\n",
      "1500/1500 [==============================] - 7s 4ms/step - loss: 0.0150 - accuracy: 0.9958 - val_loss: 0.1418 - val_accuracy: 0.9756\n",
      "Epoch 16/20\n",
      "1500/1500 [==============================] - 6s 4ms/step - loss: 0.0183 - accuracy: 0.9955 - val_loss: 0.1954 - val_accuracy: 0.9783\n",
      "Epoch 17/20\n",
      "1500/1500 [==============================] - 7s 4ms/step - loss: 0.0126 - accuracy: 0.9970 - val_loss: 0.1438 - val_accuracy: 0.9787\n",
      "Epoch 18/20\n",
      "1500/1500 [==============================] - 7s 4ms/step - loss: 0.0150 - accuracy: 0.9965 - val_loss: 0.1350 - val_accuracy: 0.9797\n",
      "Epoch 19/20\n",
      "1500/1500 [==============================] - 7s 4ms/step - loss: 0.0130 - accuracy: 0.9968 - val_loss: 0.1679 - val_accuracy: 0.9769\n",
      "Epoch 20/20\n",
      "1500/1500 [==============================] - 7s 4ms/step - loss: 0.0144 - accuracy: 0.9965 - val_loss: 0.1253 - val_accuracy: 0.9785\n"
     ]
    },
    {
     "data": {
      "text/plain": [
       "<tensorflow.python.keras.callbacks.History at 0x2d50a2d55e0>"
      ]
     },
     "execution_count": 404,
     "metadata": {},
     "output_type": "execute_result"
    }
   ],
   "source": [
    "#Conversion for Basic Neural Network\n",
    "inputTrainPixels = X_train.reshape(60000, 784).astype('float32') / 255\n",
    "inputTestPixels = X_test.reshape(10000, 784).astype('float32') / 255\n",
    "\n",
    "model.fit(inputTrainPixels, y_train, epochs=20, validation_split=0.2)"
   ]
  },
  {
   "cell_type": "code",
   "execution_count": 405,
   "metadata": {},
   "outputs": [
    {
     "name": "stdout",
     "output_type": "stream",
     "text": [
      "Epoch 1/20\n",
      "1500/1500 [==============================] - 27s 18ms/step - loss: 0.3298 - accuracy: 0.9007 - val_loss: 0.0665 - val_accuracy: 0.9782\n",
      "Epoch 2/20\n",
      "1500/1500 [==============================] - 28s 18ms/step - loss: 0.0507 - accuracy: 0.9850 - val_loss: 0.0509 - val_accuracy: 0.9854\n",
      "Epoch 3/20\n",
      "1500/1500 [==============================] - 28s 19ms/step - loss: 0.0348 - accuracy: 0.9887 - val_loss: 0.0419 - val_accuracy: 0.9870\n",
      "Epoch 4/20\n",
      "1500/1500 [==============================] - 27s 18ms/step - loss: 0.0245 - accuracy: 0.9925 - val_loss: 0.0389 - val_accuracy: 0.9893\n",
      "Epoch 5/20\n",
      "1500/1500 [==============================] - 27s 18ms/step - loss: 0.0179 - accuracy: 0.9944 - val_loss: 0.0378 - val_accuracy: 0.9890\n",
      "Epoch 6/20\n",
      "1500/1500 [==============================] - 28s 18ms/step - loss: 0.0133 - accuracy: 0.9955 - val_loss: 0.0416 - val_accuracy: 0.9894\n",
      "Epoch 7/20\n",
      "1500/1500 [==============================] - 26s 18ms/step - loss: 0.0096 - accuracy: 0.9965 - val_loss: 0.0445 - val_accuracy: 0.9888\n",
      "Epoch 8/20\n",
      "1500/1500 [==============================] - 28s 19ms/step - loss: 0.0078 - accuracy: 0.9974 - val_loss: 0.0485 - val_accuracy: 0.9883\n",
      "Epoch 9/20\n",
      "1500/1500 [==============================] - 27s 18ms/step - loss: 0.0067 - accuracy: 0.9978 - val_loss: 0.0462 - val_accuracy: 0.9883\n",
      "Epoch 10/20\n",
      "1500/1500 [==============================] - 27s 18ms/step - loss: 0.0061 - accuracy: 0.9979 - val_loss: 0.0517 - val_accuracy: 0.9888\n",
      "Epoch 11/20\n",
      "1500/1500 [==============================] - 27s 18ms/step - loss: 0.0047 - accuracy: 0.9981 - val_loss: 0.0501 - val_accuracy: 0.9900\n",
      "Epoch 12/20\n",
      "1500/1500 [==============================] - 27s 18ms/step - loss: 0.0037 - accuracy: 0.9986 - val_loss: 0.0653 - val_accuracy: 0.9872\n",
      "Epoch 13/20\n",
      "1500/1500 [==============================] - 27s 18ms/step - loss: 0.0037 - accuracy: 0.9987 - val_loss: 0.0562 - val_accuracy: 0.9899\n",
      "Epoch 14/20\n",
      "1500/1500 [==============================] - 27s 18ms/step - loss: 0.0043 - accuracy: 0.9986 - val_loss: 0.0639 - val_accuracy: 0.9893\n",
      "Epoch 15/20\n",
      "1500/1500 [==============================] - 27s 18ms/step - loss: 0.0018 - accuracy: 0.9995 - val_loss: 0.0566 - val_accuracy: 0.9905\n",
      "Epoch 16/20\n",
      "1500/1500 [==============================] - 27s 18ms/step - loss: 0.0042 - accuracy: 0.9989 - val_loss: 0.0571 - val_accuracy: 0.9898\n",
      "Epoch 17/20\n",
      "1500/1500 [==============================] - 27s 18ms/step - loss: 0.0035 - accuracy: 0.9987 - val_loss: 0.0592 - val_accuracy: 0.9902\n",
      "Epoch 18/20\n",
      "1500/1500 [==============================] - 27s 18ms/step - loss: 0.0034 - accuracy: 0.9987 - val_loss: 0.0598 - val_accuracy: 0.9905\n",
      "Epoch 19/20\n",
      "1500/1500 [==============================] - 27s 18ms/step - loss: 0.0030 - accuracy: 0.9987 - val_loss: 0.0646 - val_accuracy: 0.9882\n",
      "Epoch 20/20\n",
      "1500/1500 [==============================] - 27s 18ms/step - loss: 0.0036 - accuracy: 0.9987 - val_loss: 0.0672 - val_accuracy: 0.9898\n"
     ]
    },
    {
     "data": {
      "text/plain": [
       "<tensorflow.python.keras.callbacks.History at 0x2d5061817f0>"
      ]
     },
     "execution_count": 405,
     "metadata": {},
     "output_type": "execute_result"
    }
   ],
   "source": [
    "#Conversion for Convulutional Neural Network\n",
    "inputTrainPixels = X_train.reshape(60000, 28, 28, 1).astype('float32') / 255\n",
    "inputTestPixels = X_test.reshape(10000, 28, 28, 1).astype('float32') / 255\n",
    "\n",
    "cnn.fit(inputTrainPixels, y_train, epochs=20, validation_split=0.2)"
   ]
  },
  {
   "cell_type": "markdown",
   "metadata": {},
   "source": [
    "### Comparison:\n",
    "\n",
    "Based on running 20 epochs on both the basic and convolutional neural networks as defined in the above cells, I noticed that the convolutional neural network experienced consistently higher accuracy with lower loss on the validation set compared to the basic network.\n",
    "\n",
    "However, I also noticed that the cycle time of each epoch in the convolutional network was noticably much longer compared to the basic network. The average epoch time was about 6.5 seconds and 27.5 seconds respectively on the basic and convolutional networks respectively. This means that the training time of the convolutional network as more than 4x slower than the basic network."
   ]
  },
  {
   "cell_type": "code",
   "execution_count": null,
   "metadata": {},
   "outputs": [],
   "source": []
  }
 ],
 "metadata": {
  "colab": {
   "name": "Timeforcast.ipynb",
   "provenance": []
  },
  "kernelspec": {
   "display_name": "Python 3",
   "language": "python",
   "name": "python3"
  },
  "language_info": {
   "codemirror_mode": {
    "name": "ipython",
    "version": 3
   },
   "file_extension": ".py",
   "mimetype": "text/x-python",
   "name": "python",
   "nbconvert_exporter": "python",
   "pygments_lexer": "ipython3",
   "version": "3.8.5"
  }
 },
 "nbformat": 4,
 "nbformat_minor": 4
}
