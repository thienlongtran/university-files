{
 "cells": [
  {
   "cell_type": "code",
   "execution_count": 5,
   "metadata": {},
   "outputs": [],
   "source": [
    "import math\n",
    "import time\n",
    "import multiprocessing\n",
    "import threading\n",
    "\n",
    "class numPosition(object):\n",
    "    def __init__(self):\n",
    "        self.lock = threading.Lock()\n",
    "        self.currentNum = 2\n",
    "    \n",
    "    def get(self):\n",
    "        return self.currentNum\n",
    "    \n",
    "    def getAndIncrement(self):\n",
    "        with self.lock:\n",
    "            self.currentNum = self.currentNum + 1\n",
    "            return (self.currentNum - 1)\n",
    "\n",
    "def isPrimeThread(isPrime, startNum, sqrtN):\n",
    "    while startNum.get() <= sqrtN + 1:\n",
    "        print(startNum.getAndIncrement())\n",
    "\n",
    "def printThread():\n",
    "    while True:\n",
    "        print(\"Hello World 1\")\n",
    "        \n",
    "def printThread2():\n",
    "    while True:\n",
    "        print(\"Hello World 2\")"
   ]
  },
  {
   "cell_type": "code",
   "execution_count": 8,
   "metadata": {},
   "outputs": [
    {
     "name": "stdout",
     "output_type": "stream",
     "text": [
      "Elapsed Time: 0.00 seconds\n"
     ]
    }
   ],
   "source": [
    "if __name__ == \"__main__\":\n",
    "    n = 11195272402559239\n",
    "    sqrtN = int(math.ceil(math.sqrt(n)))\n",
    "    startNum = numPosition()\n",
    "    isPrime = False\n",
    "\n",
    "\n",
    "    tStart = time.time()\n",
    "\n",
    "    #thread1 = multiprocessing.Process(target = isPrimeThread, args=(isPrime, startNum, sqrtN))\n",
    "    #thread1.start()\n",
    "\n",
    "    thread1 = multiprocessing.Process(target = printThread)\n",
    "    thread1 = multiprocessing.Process(target = printThread2)\n",
    "    thread1.start()\n",
    "\n",
    "    \"\"\"\n",
    "    for i in range(2, sqrtN+1):\n",
    "        if n % i == 0:\n",
    "            print(\"%s is not a prime number\" % n)\n",
    "\n",
    "    else:\n",
    "        print(\"%s is a prime number\" % n)\n",
    "    \"\"\"\n",
    "\n",
    "    tEnd = time.time()\n",
    "    print(\"Elapsed Time: %.2f seconds\" %(tEnd - tStart))"
   ]
  },
  {
   "cell_type": "code",
   "execution_count": null,
   "metadata": {},
   "outputs": [],
   "source": []
  }
 ],
 "metadata": {
  "kernelspec": {
   "display_name": "Python 3",
   "language": "python",
   "name": "python3"
  },
  "language_info": {
   "codemirror_mode": {
    "name": "ipython",
    "version": 3
   },
   "file_extension": ".py",
   "mimetype": "text/x-python",
   "name": "python",
   "nbconvert_exporter": "python",
   "pygments_lexer": "ipython3",
   "version": "3.8.5"
  }
 },
 "nbformat": 4,
 "nbformat_minor": 4
}
