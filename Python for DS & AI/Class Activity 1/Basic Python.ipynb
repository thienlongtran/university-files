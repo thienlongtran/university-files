{
 "cells": [
  {
   "cell_type": "code",
   "execution_count": 1,
   "metadata": {},
   "outputs": [
    {
     "name": "stdout",
     "output_type": "stream",
     "text": [
      "2\n"
     ]
    }
   ],
   "source": [
    " stringList = ['abc', 'xyz', 'aba', '1221']\n",
    "\n",
    "#Conditions: String length is 2 or more and the first and last character are the same.\n",
    "numStringsWithConditions = 0;\n",
    "\n",
    "for string in stringList:\n",
    "    if(len(string) >= 2):\n",
    "        if(string[0] == string[len(string)-1]):\n",
    "            numStringsWithConditions = numStringsWithConditions + 1\n",
    "\n",
    "print(numStringsWithConditions)"
   ]
  },
  {
   "cell_type": "code",
   "execution_count": 4,
   "metadata": {},
   "outputs": [
    {
     "name": "stdout",
     "output_type": "stream",
     "text": [
      "{1: 1, 2: 4, 3: 9, 4: 16, 5: 25}\n"
     ]
    }
   ],
   "source": [
    "n = 5\n",
    "pairList = {}\n",
    "\n",
    "for i in range(1,n+1):\n",
    "    pairList[i] = i*i\n",
    "\n",
    "print(pairList)"
   ]
  },
  {
   "cell_type": "code",
   "execution_count": null,
   "metadata": {},
   "outputs": [],
   "source": []
  }
 ],
 "metadata": {
  "kernelspec": {
   "display_name": "Python 3",
   "language": "python",
   "name": "python3"
  },
  "language_info": {
   "codemirror_mode": {
    "name": "ipython",
    "version": 3
   },
   "file_extension": ".py",
   "mimetype": "text/x-python",
   "name": "python",
   "nbconvert_exporter": "python",
   "pygments_lexer": "ipython3",
   "version": "3.8.5"
  }
 },
 "nbformat": 4,
 "nbformat_minor": 4
}
