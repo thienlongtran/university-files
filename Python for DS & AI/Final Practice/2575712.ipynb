{
 "cells": [
  {
   "cell_type": "markdown",
   "metadata": {},
   "source": [
    "# CSCI 3220: Python for Data Science and AI\n",
    "\n",
    "### Practice Exam\n",
    "### Total Points: 50 + Bonus (15 Points)\n",
    "### Total Time: 36 Hours\n",
    "### Start Time: May 10, 10AM, End Time: May 11, 10PM\n",
    "\n",
    "\n",
    "##### ***Write the code in Jupyter notebook (ipynb file) with proper comments.\n",
    "##### ***Rename the file with your student ID and submit it in Moodle.\n",
    "##### ***You could use Google Colab for faster training.\n",
    "##### ***You are allowed to use any available libraries in python to implement the codes.\n",
    "##### ***Add proper citation if you take help from a different source (not from the textbook)."
   ]
  },
  {
   "cell_type": "code",
   "execution_count": 1,
   "metadata": {},
   "outputs": [],
   "source": [
    "#Name: Thien Tran\n",
    "#Student ID: 2575712\n",
    "\n",
    "import numpy as np\n",
    "import pandas as pd"
   ]
  },
  {
   "cell_type": "markdown",
   "metadata": {},
   "source": [
    "## 1.  Implement two classification algorithms (Support Vector Machines and k-nearest neighbors) for digit classification (scikit-learn toy dataset) problem using the scikit-learn library. Compare the performance (accuracy) using the 10-fold cross-validation method and display the top-performing classifier. [Points: 15]"
   ]
  },
  {
   "cell_type": "code",
   "execution_count": 2,
   "metadata": {},
   "outputs": [],
   "source": [
    "from sklearn.model_selection import train_test_split\n",
    "from sklearn.datasets import load_digits\n",
    "\n",
    "digits = load_digits()\n",
    "x_train, x_test, y_train, y_test = train_test_split(digits.data, digits.target)"
   ]
  },
  {
   "cell_type": "markdown",
   "metadata": {},
   "source": [
    "#### K-Nearest Neighbors"
   ]
  },
  {
   "cell_type": "code",
   "execution_count": 3,
   "metadata": {},
   "outputs": [],
   "source": [
    "from sklearn.neighbors import KNeighborsClassifier\n",
    "\n",
    "#Build Model\n",
    "KNearestNeighbors = KNeighborsClassifier(n_neighbors = 3)\n",
    "KNearestNeighbors.fit(x_train, y_train)\n",
    "\n",
    "y_predictions = KNearestNeighbors.predict(x_test)"
   ]
  },
  {
   "cell_type": "code",
   "execution_count": 4,
   "metadata": {},
   "outputs": [],
   "source": [
    "from sklearn.model_selection import KFold\n",
    "from sklearn.model_selection import cross_val_score\n",
    "\n",
    "def runKFold(amountOfIterations):\n",
    "    for i in range(amountOfIterations):\n",
    "        x_train, x_test, y_train, y_test = train_test_split(digits.data, digits.target)\n",
    "        kfold = KFold(n_splits=10, random_state=11, shuffle=True)\n",
    "        scores = cross_val_score(estimator=KNearestNeighbors, X=x_test, y=y_test, cv=kfold)\n",
    "        print(\"10-Fold Run Mean Accuracy: %.3f\" %(scores.mean()))"
   ]
  },
  {
   "cell_type": "code",
   "execution_count": 5,
   "metadata": {},
   "outputs": [
    {
     "name": "stdout",
     "output_type": "stream",
     "text": [
      "10-Fold Run Mean Accuracy: 0.971\n",
      "10-Fold Run Mean Accuracy: 0.971\n",
      "10-Fold Run Mean Accuracy: 0.964\n",
      "10-Fold Run Mean Accuracy: 0.976\n",
      "10-Fold Run Mean Accuracy: 0.969\n",
      "10-Fold Run Mean Accuracy: 0.967\n",
      "10-Fold Run Mean Accuracy: 0.971\n",
      "10-Fold Run Mean Accuracy: 0.971\n"
     ]
    }
   ],
   "source": [
    "runKFold(8)"
   ]
  },
  {
   "cell_type": "markdown",
   "metadata": {},
   "source": [
    "#### Support Vector Machines"
   ]
  },
  {
   "cell_type": "code",
   "execution_count": 6,
   "metadata": {},
   "outputs": [],
   "source": [
    "from sklearn import svm\n",
    "\n",
    "#Build Model\n",
    "svmModel = svm.SVC()\n",
    "svmModel.fit(x_train, y_train)\n",
    "\n",
    "y_predictions = svmModel.predict(x_test)"
   ]
  },
  {
   "cell_type": "code",
   "execution_count": 7,
   "metadata": {},
   "outputs": [],
   "source": [
    "from sklearn.model_selection import KFold\n",
    "from sklearn.model_selection import cross_val_score\n",
    "\n",
    "def runKFold(amountOfIterations):\n",
    "    for i in range(amountOfIterations):\n",
    "        x_train, x_test, y_train, y_test = train_test_split(digits.data, digits.target)\n",
    "        kfold = KFold(n_splits=10, random_state=11, shuffle=True)\n",
    "        scores = cross_val_score(estimator=svmModel, X=x_test, y=y_test, cv=kfold)\n",
    "        print(\"10-Fold Run Mean Accuracy: %.3f\" %(scores.mean()))"
   ]
  },
  {
   "cell_type": "code",
   "execution_count": 8,
   "metadata": {},
   "outputs": [
    {
     "name": "stdout",
     "output_type": "stream",
     "text": [
      "10-Fold Run Mean Accuracy: 0.956\n",
      "10-Fold Run Mean Accuracy: 0.987\n",
      "10-Fold Run Mean Accuracy: 0.980\n",
      "10-Fold Run Mean Accuracy: 0.967\n",
      "10-Fold Run Mean Accuracy: 0.971\n",
      "10-Fold Run Mean Accuracy: 0.967\n",
      "10-Fold Run Mean Accuracy: 0.969\n",
      "10-Fold Run Mean Accuracy: 0.976\n"
     ]
    }
   ],
   "source": [
    "runKFold(8)"
   ]
  },
  {
   "cell_type": "markdown",
   "metadata": {},
   "source": [
    "#### Comparison\n",
    "\n",
    "Based on running 8 sets of 10-fold cross validation multiple times on randomized test data and target sets upon both the K-Nearest-Neighbors and Support Vector Machines models, I would say that that neither model has a distinct, definitive, consistent advantage other another accuracy wise. Therefore, I would say that neither classification algorithm is the better performing model of the two."
   ]
  },
  {
   "cell_type": "markdown",
   "metadata": {},
   "source": [
    "#### Bonus: LightGBM"
   ]
  },
  {
   "cell_type": "code",
   "execution_count": 9,
   "metadata": {},
   "outputs": [],
   "source": [
    "#Citation: "
   ]
  },
  {
   "cell_type": "markdown",
   "metadata": {},
   "source": [
    "## 2. Design and implement a recurrent neural network (LSTM) using Keras Library for the Reuters newswire classification dataset (Keras Toy Dataset). [Points: 20]"
   ]
  },
  {
   "cell_type": "code",
   "execution_count": 77,
   "metadata": {},
   "outputs": [
    {
     "name": "stdout",
     "output_type": "stream",
     "text": [
      "x_train: (8982, 600)\n",
      "x_test: (2246, 600)\n"
     ]
    }
   ],
   "source": [
    "from tensorflow.keras.datasets import reuters\n",
    "from tensorflow.keras.datasets import imdb\n",
    "from tensorflow.keras.preprocessing.sequence import pad_sequences\n",
    "\n",
    "#Citation: learned about Reuters dataset from Keras documentation.\n",
    "#Link: https://keras.io/api/datasets/reuters/\n",
    "\n",
    "number_of_words = 10000\n",
    "words_per_wire = 600\n",
    "\n",
    "(X_train, y_train), (X_test, y_test) = reuters.load_data(num_words=number_of_words)\n",
    "\n",
    "\n",
    "X_train = pad_sequences(X_train, maxlen=words_per_wire)\n",
    "X_test = pad_sequences(X_test, maxlen=words_per_wire) \n",
    "\n",
    "print('x_train:', X_train.shape)\n",
    "print('x_test:', X_test.shape)"
   ]
  },
  {
   "cell_type": "code",
   "execution_count": 116,
   "metadata": {},
   "outputs": [],
   "source": [
    "from tensorflow.keras.models import Sequential\n",
    "from tensorflow.keras.layers import Dense, LSTM, Embedding\n",
    "\n",
    "#Build Model\n",
    "rnn = Sequential()\n",
    "rnn.add(Embedding(input_dim = number_of_words, output_dim = 128))\n",
    "rnn.add(LSTM(units=128, dropout=0.2, recurrent_dropout=0.2))\n",
    "rnn.add(Dense(46, activation='softmax'))\n",
    "rnn.compile(optimizer='adam', loss='sparse_categorical_crossentropy', metrics=['accuracy'])"
   ]
  },
  {
   "cell_type": "markdown",
   "metadata": {},
   "source": [
    "#### A. Print the summary and architecture of the network."
   ]
  },
  {
   "cell_type": "code",
   "execution_count": 117,
   "metadata": {},
   "outputs": [
    {
     "name": "stdout",
     "output_type": "stream",
     "text": [
      "Model: \"sequential_26\"\n",
      "_________________________________________________________________\n",
      "Layer (type)                 Output Shape              Param #   \n",
      "=================================================================\n",
      "embedding_26 (Embedding)     (None, None, 128)         1280000   \n",
      "_________________________________________________________________\n",
      "lstm_26 (LSTM)               (None, 128)               131584    \n",
      "_________________________________________________________________\n",
      "dense_27 (Dense)             (None, 46)                5934      \n",
      "=================================================================\n",
      "Total params: 1,417,518\n",
      "Trainable params: 1,417,518\n",
      "Non-trainable params: 0\n",
      "_________________________________________________________________\n"
     ]
    }
   ],
   "source": [
    "#Model Architecture\n",
    "rnn.summary()"
   ]
  },
  {
   "cell_type": "markdown",
   "metadata": {},
   "source": [
    "#### B. Use 20% of the training data as a validation set. Plot the loss and accuracy for each epoch in the training and validation set."
   ]
  },
  {
   "cell_type": "code",
   "execution_count": 118,
   "metadata": {},
   "outputs": [
    {
     "name": "stdout",
     "output_type": "stream",
     "text": [
      "Epoch 1/2\n",
      "150/150 [==============================] - 222s 1s/step - loss: 2.7603 - accuracy: 0.3473 - val_loss: 2.0399 - val_accuracy: 0.4830\n",
      "Epoch 2/2\n",
      "150/150 [==============================] - 223s 1s/step - loss: 1.9719 - accuracy: 0.4908 - val_loss: 1.6848 - val_accuracy: 0.5570\n"
     ]
    }
   ],
   "source": [
    "history = rnn.fit(X_train, y_train, epochs=2, batch_size=48, validation_split=0.2)"
   ]
  },
  {
   "cell_type": "code",
   "execution_count": 121,
   "metadata": {},
   "outputs": [
    {
     "data": {
      "text/plain": [
       "<matplotlib.legend.Legend at 0x26d1c1dfa90>"
      ]
     },
     "execution_count": 121,
     "metadata": {},
     "output_type": "execute_result"
    },
    {
     "data": {
      "image/png": "[encoded data removed]",
      "text/plain": [
       "<Figure size 720x432 with 2 Axes>"
      ]
     },
     "metadata": {
      "needs_background": "light"
     },
     "output_type": "display_data"
    }
   ],
   "source": [
    "#Citation: Technically part of the book, but used direct plotting code from the ML_Keras_Demo since it works fine and is part of the class.\n",
    "import matplotlib.pyplot as plt\n",
    "\n",
    "history_dict = history.history\n",
    "acc = history_dict['accuracy']\n",
    "val_acc = history_dict['val_accuracy']\n",
    "loss = history_dict['loss']\n",
    "val_loss = history_dict['val_loss']\n",
    "\n",
    "epochs = range(1, len(acc) + 1)\n",
    "fig = plt.figure(figsize=(10, 6))\n",
    "fig.tight_layout()\n",
    "\n",
    "plt.subplot(2, 1, 1)\n",
    "# \"bo\" is for \"blue dot\"\n",
    "plt.plot(epochs, loss, 'r', label='Training Loss')\n",
    "# b is for \"solid blue line\"\n",
    "plt.plot(epochs, val_loss, 'b', label='Validation Loss')\n",
    "plt.title('Training and Validation Loss')\n",
    "# plt.xlabel('Epochs')\n",
    "plt.ylabel('Loss')\n",
    "plt.legend()\n",
    "\n",
    "plt.subplot(2, 1, 2)\n",
    "plt.plot(epochs, acc, 'r', label='Training Acc')\n",
    "plt.plot(epochs, val_acc, 'b', label='Validation Acc')\n",
    "plt.title('Training and Validation Accuracy')\n",
    "plt.xlabel('Epochs')\n",
    "plt.ylabel('Accuracy')\n",
    "plt.legend(loc='lower right')"
   ]
  },
  {
   "cell_type": "markdown",
   "metadata": {},
   "source": [
    "#### C. Use EarlyStopping to stop the training if there is no improvement and ModelCheckpoint to save the best model based on the validation accuracy."
   ]
  },
  {
   "cell_type": "code",
   "execution_count": 124,
   "metadata": {},
   "outputs": [
    {
     "name": "stdout",
     "output_type": "stream",
     "text": [
      "Epoch 1/5\n",
      "150/150 [==============================] - 221s 1s/step - loss: 1.6363 - accuracy: 0.5864 - val_loss: 1.7219 - val_accuracy: 0.5487\n",
      "\n",
      "Epoch 00001: val_accuracy improved from -inf to 0.54869, saving model to model.h5\n",
      "Epoch 2/5\n",
      "150/150 [==============================] - 222s 1s/step - loss: 1.4850 - accuracy: 0.6345 - val_loss: 1.4968 - val_accuracy: 0.6405\n",
      "\n",
      "Epoch 00002: val_accuracy improved from 0.54869 to 0.64051, saving model to model.h5\n",
      "Epoch 3/5\n",
      "150/150 [==============================] - 222s 1s/step - loss: 1.3538 - accuracy: 0.6640 - val_loss: 1.5496 - val_accuracy: 0.6249\n",
      "\n",
      "Epoch 00003: val_accuracy did not improve from 0.64051\n",
      "Epoch 4/5\n",
      "150/150 [==============================] - 218s 1s/step - loss: 1.2148 - accuracy: 0.6948 - val_loss: 1.4256 - val_accuracy: 0.6500\n",
      "\n",
      "Epoch 00004: val_accuracy improved from 0.64051 to 0.64997, saving model to model.h5\n",
      "Epoch 5/5\n",
      "150/150 [==============================] - 210s 1s/step - loss: 1.0053 - accuracy: 0.7396 - val_loss: 1.4284 - val_accuracy: 0.6455\n",
      "\n",
      "Epoch 00005: val_accuracy did not improve from 0.64997\n"
     ]
    }
   ],
   "source": [
    "from keras.callbacks import EarlyStopping\n",
    "from keras.callbacks import ModelCheckpoint\n",
    "\n",
    "es = EarlyStopping(monitor='val_loss', mode='min', verbose=1,patience=2)\n",
    "mc = ModelCheckpoint('model.h5', monitor='val_accuracy', mode='max', verbose=1, save_best_only=True)\n",
    "\n",
    "history = rnn.fit(X_train, y_train, epochs=5, batch_size=48, validation_split=0.2, callbacks=[es,mc])"
   ]
  },
  {
   "cell_type": "markdown",
   "metadata": {},
   "source": [
    "#### D. Based on the plot (question 2b), tune any two hyperparameters in the network. Explain why you want to tune these hyperparameters and how they will affect the model performance."
   ]
  },
  {
   "cell_type": "code",
   "execution_count": null,
   "metadata": {},
   "outputs": [],
   "source": []
  },
  {
   "cell_type": "markdown",
   "metadata": {},
   "source": [
    "#### Bonus: Create a stacked network by combining the convolutional layer with LSTM from question 2. Is there any improvement in performance by adding the CNN layer?"
   ]
  },
  {
   "cell_type": "code",
   "execution_count": null,
   "metadata": {},
   "outputs": [],
   "source": []
  },
  {
   "cell_type": "markdown",
   "metadata": {},
   "source": [
    "## 3. Can we do 10-fold cross-validation to evaluate a neural network? If so, briefly explain how to do it? If not, explain why? [Points: 5]"
   ]
  },
  {
   "cell_type": "markdown",
   "metadata": {},
   "source": [
    "Yes we can in a sense. Assuming that we have a sample, we can build different networks with different subsets of the sample while validating the models with other subsets. However, we can not evaluate a specific, created neural network using 10-fold cross-validation because each neural network would be, in a sense, uniquely specific to the sample set that was used to build that model and thus would be irregular compared to something like KNN."
   ]
  },
  {
   "cell_type": "markdown",
   "metadata": {},
   "source": [
    "## 4. What are the main differences between convolutional and recurrent neural networks? [Points: 5]"
   ]
  },
  {
   "cell_type": "markdown",
   "metadata": {},
   "source": [
    "Convulational neural networks relies on covolution layers which is able to, simply put, consider more factors compared to a regular neural network. Recurrent neural networks, on the other hand, gives neural networks a sort of 'short term' memory which is ideal for sequences of data that may potentially stack ontop of one another."
   ]
  },
  {
   "cell_type": "markdown",
   "metadata": {},
   "source": [
    "## 5. What is the purpose of embedding layer in recurrent neural networks? Define pre-trained embeddings? [Points: 5]"
   ]
  },
  {
   "cell_type": "markdown",
   "metadata": {},
   "source": [
    "The embedding layer in recurrent neural networks encodes labels to a certain 'dense-vector' representation which could potentially have lower dimensionality and thus lower memory utilization requirements compared to other encoding methods such as one-hot. Pre-trained embeddings are previous embeddings of previous related data which could be loaded into the current neural network to save training time, or even increase accuracy. "
   ]
  },
  {
   "cell_type": "code",
   "execution_count": null,
   "metadata": {},
   "outputs": [],
   "source": []
  }
 ],
 "metadata": {
  "colab": {
   "name": "Timeforcast.ipynb",
   "provenance": []
  },
  "kernelspec": {
   "display_name": "Python 3",
   "language": "python",
   "name": "python3"
  },
  "language_info": {
   "codemirror_mode": {
    "name": "ipython",
    "version": 3
   },
   "file_extension": ".py",
   "mimetype": "text/x-python",
   "name": "python",
   "nbconvert_exporter": "python",
   "pygments_lexer": "ipython3",
   "version": "3.8.5"
  }
 },
 "nbformat": 4,
 "nbformat_minor": 1
}
