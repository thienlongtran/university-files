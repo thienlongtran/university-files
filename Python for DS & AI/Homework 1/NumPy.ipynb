{
 "cells": [
  {
   "cell_type": "markdown",
   "metadata": {},
   "source": [
    "# Problem 1"
   ]
  },
  {
   "cell_type": "markdown",
   "metadata": {},
   "source": [
    "**A.** Create a one-dimensional NumPy array using np.arange method.\n",
    "\n",
    "*Sample Output:*\n",
    "\n",
    "    array([1, 2, 3, 4, 5, 6, 7, 8, 9, 10, 11, 12, 13, 14, 15, 16])\n"
   ]
  },
  {
   "cell_type": "code",
   "execution_count": 166,
   "metadata": {},
   "outputs": [
    {
     "data": {
      "text/plain": [
       "array([ 0,  1,  2,  3,  4,  5,  6,  7,  8,  9, 10, 11, 12, 13, 14, 15])"
      ]
     },
     "execution_count": 166,
     "metadata": {},
     "output_type": "execute_result"
    }
   ],
   "source": [
    "import numpy as np\n",
    "\n",
    "#Usage of Lambda Function - sticking info into long term memory!\n",
    "createNDarray = lambda n: np.arange(n)\n",
    "\n",
    "arr = createNDarray(16)\n",
    "arr"
   ]
  },
  {
   "cell_type": "markdown",
   "metadata": {},
   "source": [
    "**B.** Reshape the array to make it two-dimensional array of 4X4 size:\n",
    "\n",
    "*Sample Output:*\n",
    "\n",
    "    array([ [ 1, 2, 3, 4],\n",
    "\n",
    "          [ 5, 6, 7, 8],\n",
    "\n",
    "          [ 9, 10, 11,12],\n",
    "\n",
    "          [13, 14, 15,16]])"
   ]
  },
  {
   "cell_type": "code",
   "execution_count": 167,
   "metadata": {},
   "outputs": [
    {
     "data": {
      "text/plain": [
       "array([[ 0,  1,  2,  3],\n",
       "       [ 4,  5,  6,  7],\n",
       "       [ 8,  9, 10, 11],\n",
       "       [12, 13, 14, 15]])"
      ]
     },
     "execution_count": 167,
     "metadata": {},
     "output_type": "execute_result"
    }
   ],
   "source": [
    "reshapedArray = arr.reshape(4,4)\n",
    "reshapedArray"
   ]
  },
  {
   "cell_type": "markdown",
   "metadata": {},
   "source": [
    "**C.** Split the array into four equal-sized(2X2) sub-arrays.\n",
    "\n",
    "*Sample Output:*\n",
    "\n",
    "    array([ [ 1, 2],\n",
    "            [ 5, 6]])\n",
    "\n",
    "    array([ [ 3, 4],\n",
    "            [ 7, 8]])\n",
    "\n",
    "    array([ [ 9, 10],\n",
    "            [13, 14]])\n",
    "\n",
    "    array([ [11, 12],\n",
    "            [15, 16]])"
   ]
  },
  {
   "cell_type": "code",
   "execution_count": 168,
   "metadata": {},
   "outputs": [
    {
     "data": {
      "text/plain": [
       "(array([[0, 1],\n",
       "        [4, 5]]),\n",
       " array([[2, 3],\n",
       "        [6, 7]]),\n",
       " array([[ 8,  9],\n",
       "        [12, 13]]),\n",
       " array([[10, 11],\n",
       "        [14, 15]]))"
      ]
     },
     "execution_count": 168,
     "metadata": {},
     "output_type": "execute_result"
    }
   ],
   "source": [
    "splitedArray = reshapedArray[0:2, 0:2], reshapedArray[0:2, 2:4], reshapedArray[2:4, 0:2], reshapedArray[2:4, 2:4]\n",
    "splitedArray"
   ]
  },
  {
   "cell_type": "markdown",
   "metadata": {},
   "source": [
    "# Problem 2\n",
    "Generate a random password that meets the following conditions:"
   ]
  },
  {
   "cell_type": "markdown",
   "metadata": {},
   "source": [
    "**A.** Password length must be 4 characters long.\n"
   ]
  },
  {
   "cell_type": "code",
   "execution_count": 169,
   "metadata": {},
   "outputs": [
    {
     "data": {
      "text/plain": [
       "'Tz5r'"
      ]
     },
     "execution_count": 169,
     "metadata": {},
     "output_type": "execute_result"
    }
   ],
   "source": [
    "import random\n",
    "import string\n",
    "\n",
    "#Generate a random password of length 4\n",
    "def generatePassword():\n",
    "    passwordLength = 4\n",
    "    password = \"\"\n",
    "    \n",
    "    #Generate each character of the password\n",
    "    for i in range(passwordLength):\n",
    "        isNum = random.getrandbits(1)\n",
    "        \n",
    "        #Append a number to password\n",
    "        if(isNum):\n",
    "            password = password + (str)(random.choice(range(10)))\n",
    "        \n",
    "        #Append an alphabet character to password\n",
    "        else:\n",
    "            #Citation: found help on generating a random ASCII letter from \"Mark Rushakoff on Stack Overflow\"\n",
    "            #Link: https://stackoverflow.com/questions/2823316/generate-a-random-letter-in-python\n",
    "            password = password + random.choice(string.ascii_letters)\n",
    "        \n",
    "    return password \n",
    "\n",
    "generatePassword()"
   ]
  },
  {
   "cell_type": "markdown",
   "metadata": {},
   "source": [
    "**B.** It must contain at least 1 upper case letter, 1 digit.\n",
    "\n",
    "*Sample Output:*\n",
    "\n",
    "    Password: 4Bvr"
   ]
  },
  {
   "cell_type": "code",
   "execution_count": 170,
   "metadata": {},
   "outputs": [
    {
     "data": {
      "text/plain": [
       "'F086'"
      ]
     },
     "execution_count": 170,
     "metadata": {},
     "output_type": "execute_result"
    }
   ],
   "source": [
    "def generatePasswordWithConditions():\n",
    "    \"\"\"\n",
    "    Generate a password with the generatePassword function and ensures that the result contains at least:\n",
    "        - 1 upper case letter.\n",
    "        - 1 digit.\n",
    "    before returning the password. Otherwise, generate another password and repeat steps until conditions met.\n",
    "    \"\"\"\n",
    "    while True:\n",
    "        password = generatePassword()\n",
    "        hasUpper = False\n",
    "        hasDigit = False\n",
    "        \n",
    "        #Conditions Checking\n",
    "        for i in range(len(password)):\n",
    "            #Check if char is uppercase\n",
    "            #Citation: found how to check if character is uppercase from w3schools\n",
    "            #Link: https://www.w3schools.com/python/ref_string_isupper.asp\n",
    "            if(password[i].isupper()):\n",
    "                hasUpper = True\n",
    "                \n",
    "            #Check if char is a digit\n",
    "            #Citation: found how to check if character is numeric from w3schools\n",
    "            #Link: https://www.w3schools.com/python/ref_string_isnumeric.asp\n",
    "            if(password[i].isnumeric()):\n",
    "                hasDigit = True\n",
    "        \n",
    "        if(hasDigit & hasUpper):\n",
    "            return password\n",
    "        \n",
    "        else:\n",
    "            generatePasswordWithConditions()\n",
    "    \n",
    "generatePasswordWithConditions()"
   ]
  },
  {
   "cell_type": "markdown",
   "metadata": {},
   "source": [
    "# Problem 3"
   ]
  },
  {
   "cell_type": "markdown",
   "metadata": {},
   "source": [
    "**A.** Generate a random 2-D integer array of size N X M where N and M are the numbers of rows and columns. Print the mean from axis 0 and sum from axis 1.\n",
    "\n",
    "*Sample Output:*\n",
    "\n",
    "    array([ [ 3, 8],\n",
    "            [ 7, 5]\n",
    "         ])\n",
    "    Mean (axis 0) = 5.0, 6.5\n",
    "    Sum (axis 1) = 11, 12\n"
   ]
  },
  {
   "cell_type": "code",
   "execution_count": null,
   "metadata": {},
   "outputs": [],
   "source": []
  }
 ],
 "metadata": {
  "kernelspec": {
   "display_name": "Python 3",
   "language": "python",
   "name": "python3"
  },
  "language_info": {
   "codemirror_mode": {
    "name": "ipython",
    "version": 3
   },
   "file_extension": ".py",
   "mimetype": "text/x-python",
   "name": "python",
   "nbconvert_exporter": "python",
   "pygments_lexer": "ipython3",
   "version": "3.8.5"
  }
 },
 "nbformat": 4,
 "nbformat_minor": 4
}
