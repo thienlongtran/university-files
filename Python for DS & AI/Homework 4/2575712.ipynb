{
 "cells": [
  {
   "cell_type": "markdown",
   "metadata": {},
   "source": [
    "# CSCI 3220: Python for Data Science and AI\n",
    "\n",
    "## Assignment 4\n",
    "\n",
    "## Due Date: May 5(Wednesday), 11:59 PM\n",
    "\n",
    "## Total Points: 36\n",
    "\n",
    "## Bonus Points: 4\n",
    "\n",
    "#### ***Write the code in Jupyter notebook (ipynb file) with proper comments. \n",
    "#### ***Add proper citation if you take help from a different source (not from the textbook).\n",
    "#### ***Rename the file with your student ID and submit it in Moodle."
   ]
  },
  {
   "cell_type": "code",
   "execution_count": 259,
   "metadata": {},
   "outputs": [],
   "source": [
    "import numpy as np\n",
    "import pandas as pd"
   ]
  },
  {
   "cell_type": "markdown",
   "metadata": {},
   "source": [
    "# Question 1\n",
    "Design and implement a basic neural network using Keras Library for the MNIST digits classification dataset (Keras Toy Dataset)."
   ]
  },
  {
   "cell_type": "markdown",
   "metadata": {},
   "source": [
    "### A. Split the dataset into train and test sets"
   ]
  },
  {
   "cell_type": "code",
   "execution_count": 263,
   "metadata": {},
   "outputs": [],
   "source": [
    "from tensorflow.keras.datasets import mnist\n",
    "\n",
    "(X_train, y_train), (X_test, y_test) = mnist.load_data()"
   ]
  },
  {
   "cell_type": "markdown",
   "metadata": {},
   "source": [
    "### B. The input layer will take the pixel values (one-dimensional array) as input. The network will have three hidden layers with an arbitrary number of nodes in each layer.\n"
   ]
  },
  {
   "cell_type": "code",
   "execution_count": 264,
   "metadata": {},
   "outputs": [],
   "source": [
    "from tensorflow.keras.utils import to_categorical\n",
    "from keras.models import Sequential\n",
    "from keras.layers import Dense\n",
    "\n",
    "from tensorflow import keras\n",
    "from tensorflow.keras import layers\n",
    "\n",
    "#Convert images to 1D array.\n",
    "inputTrainPixels = X_train.reshape(60000, 784).astype('float32') / 255\n",
    "inputTestPixels = X_test.reshape(10000, 784).astype('float32') / 255\n",
    "outputTrainResults = to_categorical(y_train)\n",
    "outputTestResults = to_categorical(y_test)\n",
    "\n",
    "model = Sequential()\n",
    "model.add(Dense(784, activation='relu'))\n",
    "model.add(Dense(254, activation='relu'))\n",
    "model.add(Dense(254, activation='relu'))\n",
    "model.add(Dense(254, activation='relu'))\n",
    "model.add(Dense(10, activation='softmax'))\n",
    "\n",
    "#Citation: learned how to fix shapes incompatibility ValueError by using 'sparse_categorical_crossentropy' from Stack Overflow\n",
    "#Link: https://stackoverflow.com/questions/62148508/how-can-i-overcome-valueerror-shapes-none-1-and-none-7-are-incompatible\n",
    "model.compile(loss='sparse_categorical_crossentropy', optimizer='adam', metrics=['accuracy'])"
   ]
  },
  {
   "cell_type": "markdown",
   "metadata": {},
   "source": [
    "### C. Print the model summary and plot your designed model architecture. "
   ]
  },
  {
   "cell_type": "code",
   "execution_count": 244,
   "metadata": {},
   "outputs": [
    {
     "name": "stdout",
     "output_type": "stream",
     "text": [
      "Model: \"sequential_155\"\n",
      "_________________________________________________________________\n",
      "Layer (type)                 Output Shape              Param #   \n",
      "=================================================================\n",
      "dense_503 (Dense)            (32, 784)                 615440    \n",
      "_________________________________________________________________\n",
      "dense_504 (Dense)            (32, 254)                 199390    \n",
      "_________________________________________________________________\n",
      "dense_505 (Dense)            (32, 254)                 64770     \n",
      "_________________________________________________________________\n",
      "dense_506 (Dense)            (32, 254)                 64770     \n",
      "_________________________________________________________________\n",
      "dense_507 (Dense)            (32, 10)                  2550      \n",
      "=================================================================\n",
      "Total params: 946,920\n",
      "Trainable params: 946,920\n",
      "Non-trainable params: 0\n",
      "_________________________________________________________________\n",
      "None\n"
     ]
    }
   ],
   "source": [
    "#NOTE: Cell 1D (next cell) must be ran first prior to running this cell.\n",
    "#I kept this cell here for assignment-order purposes.\n",
    "\n",
    "print(model.summary())"
   ]
  },
  {
   "cell_type": "markdown",
   "metadata": {},
   "source": [
    "### D. Use 20% of your training data as a validation set, and the rest of the data should be used to train your model. Plot the loss and accuracy for each epoch in the training and validation set."
   ]
  },
  {
   "cell_type": "code",
   "execution_count": 265,
   "metadata": {},
   "outputs": [
    {
     "name": "stdout",
     "output_type": "stream",
     "text": [
      "Epoch 1/20\n",
      "1500/1500 [==============================] - 7s 4ms/step - loss: 0.3814 - accuracy: 0.8793 - val_loss: 0.1351 - val_accuracy: 0.9621\n",
      "Epoch 2/20\n",
      "1500/1500 [==============================] - 7s 4ms/step - loss: 0.1066 - accuracy: 0.9684 - val_loss: 0.1035 - val_accuracy: 0.9710\n",
      "Epoch 3/20\n",
      "1500/1500 [==============================] - 6s 4ms/step - loss: 0.0702 - accuracy: 0.9787 - val_loss: 0.1233 - val_accuracy: 0.9686\n",
      "Epoch 4/20\n",
      "1500/1500 [==============================] - 6s 4ms/step - loss: 0.0559 - accuracy: 0.9836 - val_loss: 0.1160 - val_accuracy: 0.9692\n",
      "Epoch 5/20\n",
      "1500/1500 [==============================] - 7s 4ms/step - loss: 0.0427 - accuracy: 0.9874 - val_loss: 0.1036 - val_accuracy: 0.9718\n",
      "Epoch 6/20\n",
      "1500/1500 [==============================] - 7s 5ms/step - loss: 0.0388 - accuracy: 0.9895 - val_loss: 0.1068 - val_accuracy: 0.9780\n",
      "Epoch 7/20\n",
      "1500/1500 [==============================] - 6s 4ms/step - loss: 0.0321 - accuracy: 0.9907 - val_loss: 0.0975 - val_accuracy: 0.9758\n",
      "Epoch 8/20\n",
      "1500/1500 [==============================] - 6s 4ms/step - loss: 0.0278 - accuracy: 0.9910 - val_loss: 0.1291 - val_accuracy: 0.9747\n",
      "Epoch 9/20\n",
      "1500/1500 [==============================] - 6s 4ms/step - loss: 0.0335 - accuracy: 0.9909 - val_loss: 0.1250 - val_accuracy: 0.9762\n",
      "Epoch 10/20\n",
      "1500/1500 [==============================] - 7s 4ms/step - loss: 0.0254 - accuracy: 0.9929 - val_loss: 0.1029 - val_accuracy: 0.9796\n",
      "Epoch 11/20\n",
      "1500/1500 [==============================] - 7s 5ms/step - loss: 0.0223 - accuracy: 0.9937 - val_loss: 0.1152 - val_accuracy: 0.9776\n",
      "Epoch 12/20\n",
      "1500/1500 [==============================] - 7s 4ms/step - loss: 0.0214 - accuracy: 0.9936 - val_loss: 0.1367 - val_accuracy: 0.9750\n",
      "Epoch 13/20\n",
      "1500/1500 [==============================] - 7s 5ms/step - loss: 0.0206 - accuracy: 0.9944 - val_loss: 0.1435 - val_accuracy: 0.9747\n",
      "Epoch 14/20\n",
      "1500/1500 [==============================] - 7s 5ms/step - loss: 0.0174 - accuracy: 0.9954 - val_loss: 0.1149 - val_accuracy: 0.9793\n",
      "Epoch 15/20\n",
      "1500/1500 [==============================] - 7s 5ms/step - loss: 0.0169 - accuracy: 0.9953 - val_loss: 0.1362 - val_accuracy: 0.9782\n",
      "Epoch 16/20\n",
      "1500/1500 [==============================] - 7s 5ms/step - loss: 0.0157 - accuracy: 0.9956 - val_loss: 0.1887 - val_accuracy: 0.9718\n",
      "Epoch 17/20\n",
      "1500/1500 [==============================] - 7s 4ms/step - loss: 0.0195 - accuracy: 0.9950 - val_loss: 0.1356 - val_accuracy: 0.9775\n",
      "Epoch 18/20\n",
      "1500/1500 [==============================] - 7s 4ms/step - loss: 0.0132 - accuracy: 0.9965 - val_loss: 0.1738 - val_accuracy: 0.9678\n",
      "Epoch 19/20\n",
      "1500/1500 [==============================] - 7s 4ms/step - loss: 0.0118 - accuracy: 0.9971 - val_loss: 0.1759 - val_accuracy: 0.9696\n",
      "Epoch 20/20\n",
      "1500/1500 [==============================] - 7s 4ms/step - loss: 0.0159 - accuracy: 0.9957 - val_loss: 0.1403 - val_accuracy: 0.9809\n"
     ]
    }
   ],
   "source": [
    "history = model.fit(inputTrainPixels, y_train, epochs=20, validation_split=0.2)"
   ]
  },
  {
   "cell_type": "code",
   "execution_count": 266,
   "metadata": {},
   "outputs": [
    {
     "data": {
      "text/plain": [
       "<matplotlib.legend.Legend at 0x2d505f70640>"
      ]
     },
     "execution_count": 266,
     "metadata": {},
     "output_type": "execute_result"
    },
    {
     "data": {
      "image/png": "[encoded data removed]",
      "text/plain": [
       "<Figure size 720x432 with 2 Axes>"
      ]
     },
     "metadata": {
      "needs_background": "light"
     },
     "output_type": "display_data"
    }
   ],
   "source": [
    "#Citation: Used direct plotting code from the ML_Keras_Demo since it works fine, and is part of the class and/or book.\n",
    "import matplotlib.pyplot as plt\n",
    "\n",
    "history_dict = history.history\n",
    "acc = history_dict['accuracy']\n",
    "val_acc = history_dict['val_accuracy']\n",
    "loss = history_dict['loss']\n",
    "val_loss = history_dict['val_loss']\n",
    "\n",
    "epochs = range(1, len(acc) + 1)\n",
    "fig = plt.figure(figsize=(10, 6))\n",
    "fig.tight_layout()\n",
    "\n",
    "plt.subplot(2, 1, 1)\n",
    "# \"bo\" is for \"blue dot\"\n",
    "plt.plot(epochs, loss, 'r', label='Training Loss')\n",
    "# b is for \"solid blue line\"\n",
    "plt.plot(epochs, val_loss, 'b', label='Validation Loss')\n",
    "plt.title('Training and Validation Loss')\n",
    "# plt.xlabel('Epochs')\n",
    "plt.ylabel('Loss')\n",
    "plt.legend()\n",
    "\n",
    "plt.subplot(2, 1, 2)\n",
    "plt.plot(epochs, acc, 'r', label='Training Acc')\n",
    "plt.plot(epochs, val_acc, 'b', label='Validation Acc')\n",
    "plt.title('Training and Validation Accuracy')\n",
    "plt.xlabel('Epochs')\n",
    "plt.ylabel('Accuracy')\n",
    "plt.legend(loc='lower right')"
   ]
  },
  {
   "cell_type": "markdown",
   "metadata": {},
   "source": [
    "### E. Based on the plot (question 1d), tune the hyperparameters of the network so that it does not overfit. You should use EarlyStopping (avoid overfitting) and ModelCheckpoint to save the best model based on the performance of the validation set."
   ]
  },
  {
   "cell_type": "code",
   "execution_count": 268,
   "metadata": {},
   "outputs": [
    {
     "name": "stdout",
     "output_type": "stream",
     "text": [
      "Epoch 1/15\n",
      "1500/1500 [==============================] - 6s 4ms/step - loss: 0.0153 - accuracy: 0.9966 - val_loss: 0.1535 - val_accuracy: 0.9788\n",
      "\n",
      "Epoch 00001: val_accuracy improved from -inf to 0.97883, saving model to model.h5\n",
      "Epoch 2/15\n",
      "1500/1500 [==============================] - 7s 5ms/step - loss: 0.0153 - accuracy: 0.9961 - val_loss: 0.1607 - val_accuracy: 0.9781\n",
      "\n",
      "Epoch 00002: val_accuracy did not improve from 0.97883\n",
      "Epoch 3/15\n",
      "1500/1500 [==============================] - 7s 4ms/step - loss: 0.0097 - accuracy: 0.9977 - val_loss: 0.2176 - val_accuracy: 0.9779\n",
      "\n",
      "Epoch 00003: val_accuracy did not improve from 0.97883\n",
      "Epoch 00003: early stopping\n"
     ]
    }
   ],
   "source": [
    "from keras.callbacks import EarlyStopping\n",
    "from keras.callbacks import ModelCheckpoint\n",
    "\n",
    "es = EarlyStopping(monitor='val_loss', mode='min', verbose=1,patience=2)\n",
    "mc = ModelCheckpoint('model.h5', monitor='val_accuracy', mode='max', verbose=1, save_best_only=True)\n",
    "\n",
    "history = model.fit(inputTrainPixels, y_train, epochs=15, validation_split=0.2, callbacks=[es,mc])"
   ]
  },
  {
   "cell_type": "markdown",
   "metadata": {},
   "source": [
    "### F. Load the best-saved model and evaluate your model's performance in terms of accuracy for the test set.\n"
   ]
  },
  {
   "cell_type": "code",
   "execution_count": 275,
   "metadata": {},
   "outputs": [
    {
     "name": "stdout",
     "output_type": "stream",
     "text": [
      "313/313 [==============================] - 1s 2ms/step - loss: 0.1340 - accuracy: 0.9793\n"
     ]
    },
    {
     "data": {
      "text/plain": [
       "[0.13397052884101868, 0.9793330430984497]"
      ]
     },
     "execution_count": 275,
     "metadata": {},
     "output_type": "execute_result"
    }
   ],
   "source": [
    "from keras.models import load_model\n",
    "\n",
    "#Citation: learned how to load saved model from TensorFlow documentation\n",
    "#Link: https://www.tensorflow.org/guide/keras/save_and_serialize\n",
    "\n",
    "loadedModel = load_model(\"model.h5\")\n",
    "\n",
    "loadedModel.evaluate(inputTestPixels, y_test)"
   ]
  },
  {
   "cell_type": "markdown",
   "metadata": {},
   "source": [
    "# Question 2\n",
    "Design and implement a convolutional neural network (CNN) using Keras Library for the CIFAR10 small images classification dataset (Keras Toy Dataset)."
   ]
  },
  {
   "cell_type": "code",
   "execution_count": null,
   "metadata": {},
   "outputs": [],
   "source": []
  }
 ],
 "metadata": {
  "colab": {
   "name": "Timeforcast.ipynb",
   "provenance": []
  },
  "kernelspec": {
   "display_name": "Python 3",
   "language": "python",
   "name": "python3"
  },
  "language_info": {
   "codemirror_mode": {
    "name": "ipython",
    "version": 3
   },
   "file_extension": ".py",
   "mimetype": "text/x-python",
   "name": "python",
   "nbconvert_exporter": "python",
   "pygments_lexer": "ipython3",
   "version": "3.8.5"
  }
 },
 "nbformat": 4,
 "nbformat_minor": 4
}
